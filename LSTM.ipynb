{
 "cells": [
  {
   "cell_type": "code",
   "execution_count": 917,
   "metadata": {},
   "outputs": [],
   "source": [
    "# For reading data sets from the web.\n",
    "import pandas\n",
    "# For lots of great things.\n",
    "import numpy as np\n",
    "# To make our plots.\n",
    "import matplotlib.pyplot as plt\n",
    "%matplotlib inline\n",
    "# Because sympy and LaTeX make\n",
    "# everything look wonderful!\n",
    "from sympy import *\n",
    "init_printing(use_latex=True)\n",
    "from IPython.display import display\n",
    "# We will use this to check our implementation...\n",
    "from sklearn.decomposition import PCA\n",
    "# We will grab another data set using Keras\n",
    "# after we finish up with Iris...\n",
    "import keras\n",
    "# Need this for LabelEncoder\n",
    "from sklearn import preprocessing"
   ]
  },
  {
   "cell_type": "code",
   "execution_count": null,
   "metadata": {},
   "outputs": [],
   "source": []
  },
  {
   "cell_type": "code",
   "execution_count": 918,
   "metadata": {},
   "outputs": [],
   "source": [
    "student_data = np.array(pandas.read_table(\"./student-por.csv\",\n",
    "delimiter=\";\", header=0))"
   ]
  },
  {
   "cell_type": "code",
   "execution_count": 919,
   "metadata": {},
   "outputs": [
    {
     "data": {
      "image/png": "[encoded data removed]",
      "text/latex": [
       "$$\\left ( 649, \\quad 33\\right )$$"
      ],
      "text/plain": [
       "(649, 33)"
      ]
     },
     "execution_count": 919,
     "metadata": {},
     "output_type": "execute_result"
    }
   ],
   "source": [
    "student_data.shape"
   ]
  },
  {
   "cell_type": "code",
   "execution_count": 920,
   "metadata": {},
   "outputs": [],
   "source": [
    "le = preprocessing.LabelEncoder()"
   ]
  },
  {
   "cell_type": "markdown",
   "metadata": {},
   "source": [
    "# Encoding non-numeric data to integers"
   ]
  },
  {
   "cell_type": "code",
   "execution_count": 921,
   "metadata": {},
   "outputs": [],
   "source": [
    "# School (binomial)\n",
    "le.fit(student_data[:,0])\n",
    "student_data[:,0] = le.transform(student_data[:,0])"
   ]
  },
  {
   "cell_type": "code",
   "execution_count": 922,
   "metadata": {},
   "outputs": [],
   "source": [
    "# Sex (binomial)\n",
    "le.fit(student_data[:,1])\n",
    "student_data[:,1] = le.transform(student_data[:,1])"
   ]
  },
  {
   "cell_type": "code",
   "execution_count": 923,
   "metadata": {},
   "outputs": [],
   "source": [
    "# address (binomial)\n",
    "le.fit(student_data[:,3])\n",
    "student_data[:,3] = le.transform(student_data[:,3])"
   ]
  },
  {
   "cell_type": "code",
   "execution_count": 924,
   "metadata": {},
   "outputs": [],
   "source": [
    "# Famsize (binomial)\n",
    "le.fit(student_data[:,4])\n",
    "student_data[:,4] = le.transform(student_data[:,4])"
   ]
  },
  {
   "cell_type": "code",
   "execution_count": 925,
   "metadata": {},
   "outputs": [],
   "source": [
    "# Pstatus (binomial)\n",
    "le.fit(student_data[:,5])\n",
    "student_data[:,5] = le.transform(student_data[:,5])"
   ]
  },
  {
   "cell_type": "code",
   "execution_count": 926,
   "metadata": {},
   "outputs": [],
   "source": [
    "# Mjob (nominal)\n",
    "le.fit(student_data[:,8])\n",
    "student_data[:,8] = le.transform(student_data[:,8])"
   ]
  },
  {
   "cell_type": "code",
   "execution_count": 927,
   "metadata": {},
   "outputs": [],
   "source": [
    "# Fjob (nominal)\n",
    "le.fit(student_data[:,9])\n",
    "student_data[:,9] = le.transform(student_data[:,9])"
   ]
  },
  {
   "cell_type": "code",
   "execution_count": 928,
   "metadata": {},
   "outputs": [],
   "source": [
    "# Reason (nominal)\n",
    "le.fit(student_data[:,10])\n",
    "student_data[:,10] = le.transform(student_data[:,10])"
   ]
  },
  {
   "cell_type": "code",
   "execution_count": 929,
   "metadata": {},
   "outputs": [],
   "source": [
    "# Guardian (nominal)\n",
    "le.fit(student_data[:,11])\n",
    "student_data[:,11] = le.transform(student_data[:,11])"
   ]
  },
  {
   "cell_type": "code",
   "execution_count": 930,
   "metadata": {},
   "outputs": [],
   "source": [
    "# schoolsup (binomial)\n",
    "le.fit(student_data[:,15])\n",
    "student_data[:,15] = le.transform(student_data[:,15])"
   ]
  },
  {
   "cell_type": "code",
   "execution_count": 931,
   "metadata": {},
   "outputs": [],
   "source": [
    "# famsup (binomial)\n",
    "le.fit(student_data[:,16])\n",
    "student_data[:,16] = le.transform(student_data[:,16])"
   ]
  },
  {
   "cell_type": "code",
   "execution_count": 932,
   "metadata": {},
   "outputs": [],
   "source": [
    "# paid (binomial)\n",
    "le.fit(student_data[:,17])\n",
    "student_data[:,17] = le.transform(student_data[:,17])"
   ]
  },
  {
   "cell_type": "code",
   "execution_count": 933,
   "metadata": {},
   "outputs": [],
   "source": [
    "# activities (binomial)\n",
    "le.fit(student_data[:,18])\n",
    "student_data[:,18] = le.transform(student_data[:,18])"
   ]
  },
  {
   "cell_type": "code",
   "execution_count": 934,
   "metadata": {},
   "outputs": [],
   "source": [
    "# nursery (binomial)\n",
    "le.fit(student_data[:,19])\n",
    "student_data[:,19] = le.transform(student_data[:,19])"
   ]
  },
  {
   "cell_type": "code",
   "execution_count": 935,
   "metadata": {},
   "outputs": [],
   "source": [
    "# higher (binomial)\n",
    "le.fit(student_data[:,20])\n",
    "student_data[:,20] = le.transform(student_data[:,20])"
   ]
  },
  {
   "cell_type": "code",
   "execution_count": 936,
   "metadata": {},
   "outputs": [],
   "source": [
    "# internet (binomial)\n",
    "le.fit(student_data[:,21])\n",
    "student_data[:,21] = le.transform(student_data[:,21])"
   ]
  },
  {
   "cell_type": "code",
   "execution_count": 937,
   "metadata": {},
   "outputs": [],
   "source": [
    "# romantic (binomial)\n",
    "le.fit(student_data[:,22])\n",
    "student_data[:,22] = le.transform(student_data[:,22])"
   ]
  },
  {
   "cell_type": "code",
   "execution_count": 938,
   "metadata": {},
   "outputs": [
    {
     "data": {
      "text/plain": [
       "array([[0, 0, 18, ..., 0, 11, 11],\n",
       "       [0, 0, 17, ..., 9, 11, 11],\n",
       "       [0, 0, 15, ..., 12, 13, 12],\n",
       "       ...,\n",
       "       [1, 0, 18, ..., 11, 12, 9],\n",
       "       [1, 1, 17, ..., 10, 10, 10],\n",
       "       [1, 1, 18, ..., 10, 11, 11]], dtype=object)"
      ]
     },
     "execution_count": 938,
     "metadata": {},
     "output_type": "execute_result"
    }
   ],
   "source": [
    "student_data"
   ]
  },
  {
   "cell_type": "markdown",
   "metadata": {},
   "source": [
    "# Encoding 0's to -1 for binomial data."
   ]
  },
  {
   "cell_type": "markdown",
   "metadata": {},
   "source": [
    "### Surely there's a one line method to do this... right, Keras?"
   ]
  },
  {
   "cell_type": "code",
   "execution_count": 939,
   "metadata": {},
   "outputs": [],
   "source": [
    "school = student_data[:,0]\n",
    "school = np.where(school==0, -1, school)\n",
    "student_data[:,0] = school"
   ]
  },
  {
   "cell_type": "code",
   "execution_count": 940,
   "metadata": {},
   "outputs": [],
   "source": [
    "sex = student_data[:,1]\n",
    "sex = np.where(sex==0, -1, sex)\n",
    "student_data[:,1] = sex"
   ]
  },
  {
   "cell_type": "code",
   "execution_count": 941,
   "metadata": {},
   "outputs": [],
   "source": [
    "address = student_data[:,3]\n",
    "address = np.where(address==0, -1, address)\n",
    "student_data[:,3] = address"
   ]
  },
  {
   "cell_type": "code",
   "execution_count": 942,
   "metadata": {},
   "outputs": [],
   "source": [
    "famsize = student_data[:,4]\n",
    "famsize = np.where(famsize==0, -1, famsize)\n",
    "student_data[:,4] = famsize"
   ]
  },
  {
   "cell_type": "code",
   "execution_count": 943,
   "metadata": {},
   "outputs": [],
   "source": [
    "Pstatus = student_data[:,5]\n",
    "Pstatus = np.where(Pstatus==0, -1, Pstatus)\n",
    "student_data[:,5] = Pstatus"
   ]
  },
  {
   "cell_type": "code",
   "execution_count": 944,
   "metadata": {},
   "outputs": [],
   "source": [
    "schoolsup = student_data[:,15]\n",
    "schoolsup = np.where(schoolsup==0, -1, schoolsup)\n",
    "student_data[:,15] = schoolsup"
   ]
  },
  {
   "cell_type": "code",
   "execution_count": 945,
   "metadata": {},
   "outputs": [],
   "source": [
    "famsup = student_data[:,16]\n",
    "famsup = np.where(famsup==0, -1, famsup)\n",
    "student_data[:,16] = famsup"
   ]
  },
  {
   "cell_type": "code",
   "execution_count": 946,
   "metadata": {},
   "outputs": [],
   "source": [
    "paid = student_data[:,17]\n",
    "paid = np.where(paid==0, -1, paid)\n",
    "student_data[:,17] = paid"
   ]
  },
  {
   "cell_type": "code",
   "execution_count": 947,
   "metadata": {},
   "outputs": [],
   "source": [
    "activities = student_data[:,18]\n",
    "activities = np.where(activities==0, -1, activities)\n",
    "student_data[:,18] = activities"
   ]
  },
  {
   "cell_type": "code",
   "execution_count": 948,
   "metadata": {},
   "outputs": [],
   "source": [
    "nursery = student_data[:,19]\n",
    "nursery = np.where(nursery==0, -1, nursery)\n",
    "student_data[:,19] = nursery"
   ]
  },
  {
   "cell_type": "code",
   "execution_count": 949,
   "metadata": {},
   "outputs": [],
   "source": [
    "higher = student_data[:,20]\n",
    "higher = np.where(higher==0, -1, higher)\n",
    "student_data[:,20] = higher"
   ]
  },
  {
   "cell_type": "code",
   "execution_count": 950,
   "metadata": {},
   "outputs": [],
   "source": [
    "internet = student_data[:,21]\n",
    "internet = np.where(internet==0, -1, internet)\n",
    "student_data[:,21] = internet"
   ]
  },
  {
   "cell_type": "code",
   "execution_count": 951,
   "metadata": {},
   "outputs": [],
   "source": [
    "romantic = student_data[:,22]\n",
    "romantic = np.where(romantic==0, -1, romantic)\n",
    "student_data[:,22] = romantic"
   ]
  },
  {
   "cell_type": "markdown",
   "metadata": {},
   "source": [
    "# Standardizing the nominal and numerical data."
   ]
  },
  {
   "cell_type": "code",
   "execution_count": 952,
   "metadata": {},
   "outputs": [],
   "source": [
    "scaler = preprocessing.StandardScaler()"
   ]
  },
  {
   "cell_type": "markdown",
   "metadata": {},
   "source": [
    "### I don't think this warning is THAT concerning"
   ]
  },
  {
   "cell_type": "code",
   "execution_count": 953,
   "metadata": {},
   "outputs": [
    {
     "name": "stderr",
     "output_type": "stream",
     "text": [
      "/nfshome/apps/python-3.6.7/lib/python3.6/site-packages/sklearn/utils/validation.py:590: DataConversionWarning: Data with input dtype object was converted to float64 by StandardScaler.\n",
      "  warnings.warn(msg, DataConversionWarning)\n",
      "/nfshome/apps/python-3.6.7/lib/python3.6/site-packages/sklearn/utils/validation.py:590: DataConversionWarning: Data with input dtype object was converted to float64 by StandardScaler.\n",
      "  warnings.warn(msg, DataConversionWarning)\n"
     ]
    }
   ],
   "source": [
    "temp = student_data[:,[2,14,29,30,31]]\n",
    "Standardized = scaler.fit_transform(temp)"
   ]
  },
  {
   "cell_type": "markdown",
   "metadata": {},
   "source": [
    "### Not sure about the -0.0 for the mean..."
   ]
  },
  {
   "cell_type": "code",
   "execution_count": 954,
   "metadata": {},
   "outputs": [
    {
     "name": "stdout",
     "output_type": "stream",
     "text": [
      "Mean: 0.0\n",
      "Standard deviation: 1.0\n"
     ]
    }
   ],
   "source": [
    "print('Mean:', round(Standardized.mean()))\n",
    "print('Standard deviation:', Standardized.std())"
   ]
  },
  {
   "cell_type": "code",
   "execution_count": 955,
   "metadata": {},
   "outputs": [],
   "source": [
    "student_data[:,[2,14,29,30,31]] = Standardized"
   ]
  },
  {
   "cell_type": "markdown",
   "metadata": {},
   "source": [
    "## 1-of-C encode nominal data"
   ]
  },
  {
   "cell_type": "code",
   "execution_count": 956,
   "metadata": {},
   "outputs": [
    {
     "data": {
      "text/latex": [
       "$$\\left[\\begin{matrix}0 & 1 & 2 & 3 & 4\\end{matrix}\\right]$$"
      ],
      "text/plain": [
       "[0  1  2  3  4]"
      ]
     },
     "metadata": {},
     "output_type": "display_data"
    },
    {
     "data": {
      "image/png": "[encoded data removed]",
      "text/latex": [
       "$$\\left ( 649\\right )$$"
      ],
      "text/plain": [
       "(649,)"
      ]
     },
     "metadata": {},
     "output_type": "display_data"
    },
    {
     "data": {
      "text/plain": [
       "array([list([array([1., 0., 0., 0., 0.], dtype=float32)]),\n",
       "       list([array([1., 0., 0., 0., 0.], dtype=float32)]),\n",
       "       list([array([1., 0., 0., 0., 0.], dtype=float32)]),\n",
       "       list([array([0., 1., 0., 0., 0.], dtype=float32)]),\n",
       "       list([array([0., 0., 1., 0., 0.], dtype=float32)])], dtype=object)"
      ]
     },
     "metadata": {},
     "output_type": "display_data"
    }
   ],
   "source": [
    "# Mother's job\n",
    "## Teacher, Health Care, Civil Services, At Home, Other\n",
    "\n",
    "# index of current feature\n",
    "index = 8\n",
    "\n",
    "# unique values this feature can inhibit\n",
    "uniqueVals = Matrix(np.unique(student_data[:,index])).T\n",
    "display(uniqueVals)\n",
    "\n",
    "# convert numerical data into categories\n",
    "shape = uniqueVals.shape[1]\n",
    "categoricalArr = keras.utils.to_categorical(student_data[:,index], shape)\n",
    "for i in range (649):\n",
    "    student_data[i,index] = [categoricalArr[i,:]]\n",
    "display(student_data[:,index].shape)\n",
    "display(student_data[:5,index])"
   ]
  },
  {
   "cell_type": "code",
   "execution_count": 957,
   "metadata": {},
   "outputs": [],
   "source": [
    "# Father's Job\n",
    "## Teacher, Health Care, Civil Services, At Home, Other\n",
    "index = 9\n",
    "uniqueVals = Matrix(np.unique(student_data[:,index])).T\n",
    "shape = uniqueVals.shape[1]\n",
    "categoricalArr = keras.utils.to_categorical(student_data[:,index], shape)\n",
    "for i in range (649):\n",
    "    student_data[i,index] = [categoricalArr[i,:]]"
   ]
  },
  {
   "cell_type": "code",
   "execution_count": 958,
   "metadata": {},
   "outputs": [],
   "source": [
    "# Reason for Choosing This School\n",
    "## Close to Home, School Reputation, Course Prefrence, Other\n",
    "index = 10\n",
    "uniqueVals = Matrix(np.unique(student_data[:,index])).T\n",
    "shape = uniqueVals.shape[1]\n",
    "categoricalArr = keras.utils.to_categorical(student_data[:,index], shape)\n",
    "for i in range (649):\n",
    "    student_data[i,index] = [categoricalArr[i,:]]"
   ]
  },
  {
   "cell_type": "code",
   "execution_count": 959,
   "metadata": {},
   "outputs": [],
   "source": [
    "# Gaurdian\n",
    "## Mother, Father, Other\n",
    "index = 11\n",
    "uniqueVals = Matrix(np.unique(student_data[:,index])).T\n",
    "shape = uniqueVals.shape[1]\n",
    "categoricalArr = keras.utils.to_categorical(student_data[:,index], shape)\n",
    "for i in range (649):\n",
    "    student_data[i,index] = [categoricalArr[i,:]]"
   ]
  },
  {
   "cell_type": "markdown",
   "metadata": {},
   "source": [
    "# Thermometer Encode Nominal Data"
   ]
  },
  {
   "cell_type": "code",
   "execution_count": 960,
   "metadata": {},
   "outputs": [
    {
     "data": {
      "text/plain": [
       "array([4, 1, 1, 4, 3], dtype=object)"
      ]
     },
     "metadata": {},
     "output_type": "display_data"
    }
   ],
   "source": [
    "# Mother's Education\n",
    "## None, Primary (4th grade), 5th to 9th grade, Secondary, Higher\n",
    "index = 6\n",
    "display(student_data[0:5,index])"
   ]
  },
  {
   "cell_type": "code",
   "execution_count": 961,
   "metadata": {},
   "outputs": [
    {
     "data": {
      "text/latex": [
       "$$\\left[\\begin{matrix}0 & 1 & 2 & 3 & 4\\end{matrix}\\right]$$"
      ],
      "text/plain": [
       "[0  1  2  3  4]"
      ]
     },
     "metadata": {},
     "output_type": "display_data"
    }
   ],
   "source": [
    "uniqueVals = Matrix(np.unique(student_data[:,index])).T\n",
    "display(uniqueVals)\n",
    "shape = uniqueVals.shape[1]"
   ]
  },
  {
   "cell_type": "code",
   "execution_count": 962,
   "metadata": {},
   "outputs": [
    {
     "data": {
      "text/plain": [
       "array([[1, 1, 1, 1, 0, 0, 0, 0],\n",
       "       [1, 0, 0, 0, 0, 0, 0, 0],\n",
       "       [1, 0, 0, 0, 0, 0, 0, 0],\n",
       "       [1, 1, 1, 1, 0, 0, 0, 0],\n",
       "       [1, 1, 1, 0, 0, 0, 0, 0]], dtype=uint8)"
      ]
     },
     "metadata": {},
     "output_type": "display_data"
    },
    {
     "data": {
      "text/plain": [
       "array([[1, 1, 1, 1],\n",
       "       [1, 0, 0, 0],\n",
       "       [1, 0, 0, 0],\n",
       "       [1, 1, 1, 1],\n",
       "       [1, 1, 1, 0]], dtype=uint8)"
      ]
     },
     "metadata": {},
     "output_type": "display_data"
    }
   ],
   "source": [
    "# https://stackoverflow.com/questions/49080613/numpy-thermometer-encoding\n",
    "thermArr = np.array([student_data[:,index]], dtype=np.uint8)\n",
    "thermArr = np.fliplr(np.unpackbits((1 << thermArr) - 1).reshape(-1,8))\n",
    "display(thermArr[0:5,:])\n",
    "display(thermArr[0:5,:shape-1])"
   ]
  },
  {
   "cell_type": "code",
   "execution_count": 963,
   "metadata": {},
   "outputs": [
    {
     "data": {
      "text/plain": [
       "array([list([array([1, 1, 1, 1], dtype=uint8)]),\n",
       "       list([array([1, 0, 0, 0], dtype=uint8)]),\n",
       "       list([array([1, 0, 0, 0], dtype=uint8)]),\n",
       "       list([array([1, 1, 1, 1], dtype=uint8)]),\n",
       "       list([array([1, 1, 1, 0], dtype=uint8)])], dtype=object)"
      ]
     },
     "metadata": {},
     "output_type": "display_data"
    }
   ],
   "source": [
    "for i in range (649):\n",
    "    student_data[i,index] = [thermArr[i,:shape-1]]\n",
    "display(student_data[0:5,index])"
   ]
  },
  {
   "cell_type": "code",
   "execution_count": 964,
   "metadata": {},
   "outputs": [
    {
     "data": {
      "text/plain": [
       "array([4, 1, 1, 2, 3], dtype=object)"
      ]
     },
     "metadata": {},
     "output_type": "display_data"
    },
    {
     "data": {
      "text/plain": [
       "array([list([array([1, 1, 1, 1], dtype=uint8)]),\n",
       "       list([array([1, 0, 0, 0], dtype=uint8)]),\n",
       "       list([array([1, 0, 0, 0], dtype=uint8)]),\n",
       "       list([array([1, 1, 0, 0], dtype=uint8)]),\n",
       "       list([array([1, 1, 1, 0], dtype=uint8)])], dtype=object)"
      ]
     },
     "metadata": {},
     "output_type": "display_data"
    }
   ],
   "source": [
    "# Father's Education\n",
    "## None, Primary (4th grade), 5th to 9th grade, Secondary, Higher\n",
    "index = 7\n",
    "display(student_data[0:5,index])\n",
    "uniqueVals = Matrix(np.unique(student_data[:,index])).T\n",
    "shape = uniqueVals.shape[1]\n",
    "thermArr = np.array([student_data[:,index]], dtype=np.uint8)\n",
    "thermArr = np.fliplr(np.unpackbits((1 << thermArr) - 1).reshape(-1,8))\n",
    "for i in range (649):\n",
    "    student_data[i,index] = [thermArr[i,:shape-1]]\n",
    "display(student_data[0:5,index])"
   ]
  },
  {
   "cell_type": "code",
   "execution_count": 965,
   "metadata": {},
   "outputs": [],
   "source": [
    "# Travel Time\n",
    "## <15min, 15min - 30min, 30min - 1hour, >1hour\n",
    "index = 12\n",
    "uniqueVals = Matrix(np.unique(student_data[:,index])).T\n",
    "shape = uniqueVals.shape[1]\n",
    "thermArr = np.array([student_data[:,index]], dtype=np.uint8)\n",
    "thermArr = np.fliplr(np.unpackbits((1 << thermArr) - 1).reshape(-1,8))\n",
    "for i in range (649):\n",
    "    student_data[i,index] = [thermArr[i,:shape-1]]\n",
    "    \n",
    "# Study Time\n",
    "## <2hours, 2hours - 5hours, 5hours - 10hours, >10hours\n",
    "index = 13\n",
    "uniqueVals = Matrix(np.unique(student_data[:,index])).T\n",
    "shape = uniqueVals.shape[1]\n",
    "thermArr = np.array([student_data[:,index]], dtype=np.uint8)\n",
    "thermArr = np.fliplr(np.unpackbits((1 << thermArr) - 1).reshape(-1,8))\n",
    "for i in range (649):\n",
    "    student_data[i,index] = [thermArr[i,:shape-1]]\n",
    "    \n",
    "# Failures\n",
    "## 0, 1, 2, 3, 4+\n",
    "index = 14\n",
    "uniqueVals = Matrix(np.unique(student_data[:,index])).T\n",
    "shape = uniqueVals.shape[1]\n",
    "thermArr = np.array([student_data[:,index]], dtype=np.uint8)\n",
    "thermArr = np.fliplr(np.unpackbits((1 << thermArr) - 1).reshape(-1,8))\n",
    "for i in range (649):\n",
    "    student_data[i,index] = [thermArr[i,:shape-1]]\n",
    "    \n",
    "# Free Time\n",
    "## 1 - very low to 5 - very high\n",
    "index = 24\n",
    "uniqueVals = Matrix(np.unique(student_data[:,index])).T\n",
    "shape = uniqueVals.shape[1]\n",
    "thermArr = np.array([student_data[:,index]], dtype=np.uint8)\n",
    "thermArr = np.fliplr(np.unpackbits((1 << thermArr) - 1).reshape(-1,8))\n",
    "for i in range (649):\n",
    "    student_data[i,index] = [thermArr[i,:shape-1]]\n",
    "    \n",
    "# Going Out With Friends\n",
    "## 1 - very low to 5 - very high\n",
    "index = 25\n",
    "uniqueVals = Matrix(np.unique(student_data[:,index])).T\n",
    "shape = uniqueVals.shape[1]\n",
    "thermArr = np.array([student_data[:,index]], dtype=np.uint8)\n",
    "thermArr = np.fliplr(np.unpackbits((1 << thermArr) - 1).reshape(-1,8))\n",
    "for i in range (649):\n",
    "    student_data[i,index] = [thermArr[i,:shape-1]]\n",
    "    \n",
    "# Weekend Alcohol Consumption\n",
    "## 1 - very low to 5 - very high\n",
    "index = 26\n",
    "uniqueVals = Matrix(np.unique(student_data[:,index])).T\n",
    "shape = uniqueVals.shape[1]\n",
    "thermArr = np.array([student_data[:,index]], dtype=np.uint8)\n",
    "thermArr = np.fliplr(np.unpackbits((1 << thermArr) - 1).reshape(-1,8))\n",
    "for i in range (649):\n",
    "    student_data[i,index] = [thermArr[i,:shape-1]]\n",
    "    \n",
    "# Workday Alcohol Consumption\n",
    "## 1 - very low to 5 - very high\n",
    "index = 27\n",
    "uniqueVals = Matrix(np.unique(student_data[:,index])).T\n",
    "shape = uniqueVals.shape[1]\n",
    "thermArr = np.array([student_data[:,index]], dtype=np.uint8)\n",
    "thermArr = np.fliplr(np.unpackbits((1 << thermArr) - 1).reshape(-1,8))\n",
    "for i in range (649):\n",
    "    student_data[i,index] = [thermArr[i,:shape-1]]\n",
    "    \n",
    "# Current Health Status\n",
    "## 1 - very low to 5 - very high\n",
    "index = 28\n",
    "uniqueVals = Matrix(np.unique(student_data[:,index])).T\n",
    "shape = uniqueVals.shape[1]\n",
    "thermArr = np.array([student_data[:,index]], dtype=np.uint8)\n",
    "thermArr = np.fliplr(np.unpackbits((1 << thermArr) - 1).reshape(-1,8))\n",
    "for i in range (649):\n",
    "    student_data[i,index] = [thermArr[i,:shape-1]]"
   ]
  },
  {
   "cell_type": "markdown",
   "metadata": {},
   "source": [
    "### Convert results to one-hot encoding\n",
    "#### the actual output vector doesn't include at least one example of each possible grade so I made a vector of all possibilities for to_categorical"
   ]
  },
  {
   "cell_type": "code",
   "execution_count": 966,
   "metadata": {},
   "outputs": [],
   "source": [
    "results = student_data[:,32] # output vector\n",
    "possible_results = [0,1,2,3,4,5,6,7,8,9,10,11,12,13,14,15,16,17,18,19]"
   ]
  },
  {
   "cell_type": "code",
   "execution_count": 967,
   "metadata": {},
   "outputs": [
    {
     "data": {
      "image/png": "[encoded data removed]",
      "text/latex": [
       "$$\\left ( 649, \\quad 20\\right )$$"
      ],
      "text/plain": [
       "(649, 20)"
      ]
     },
     "execution_count": 967,
     "metadata": {},
     "output_type": "execute_result"
    }
   ],
   "source": [
    "y = keras.utils.to_categorical(results, len(possible_results))\n",
    "y.shape"
   ]
  },
  {
   "cell_type": "markdown",
   "metadata": {},
   "source": [
    "# Data is now preprocessed"
   ]
  },
  {
   "cell_type": "markdown",
   "metadata": {},
   "source": [
    "### Note: columns 31 and 32 are not used. I do not believe they are useful for our net."
   ]
  },
  {
   "cell_type": "code",
   "execution_count": 968,
   "metadata": {},
   "outputs": [],
   "source": [
    "model = keras.Sequential()"
   ]
  },
  {
   "cell_type": "code",
   "execution_count": 985,
   "metadata": {},
   "outputs": [],
   "source": [
    "display(input_size = x.shape[1])\n",
    "display(output_size = y.shape[1])"
   ]
  },
  {
   "cell_type": "code",
   "execution_count": 986,
   "metadata": {},
   "outputs": [],
   "source": [
    "display(input_size = x.shape[1])\n",
    "display(output_size = y.shape[1])"
   ]
  },
  {
   "cell_type": "code",
   "execution_count": 970,
   "metadata": {},
   "outputs": [],
   "source": [
    "# create the hidden layer\n",
    "model.add(keras.layers.Dense(400,input_dim=input_size,activation='relu'))"
   ]
  },
  {
   "cell_type": "code",
   "execution_count": 971,
   "metadata": {},
   "outputs": [],
   "source": [
    "model.add(keras.layers.Dense(200,activation='relu'))"
   ]
  },
  {
   "cell_type": "code",
   "execution_count": 972,
   "metadata": {},
   "outputs": [],
   "source": [
    "# output layer\n",
    "model.add(keras.layers.Dense(output_size,activation='softmax'))"
   ]
  },
  {
   "cell_type": "code",
   "execution_count": 973,
   "metadata": {},
   "outputs": [],
   "source": [
    "# compile\n",
    "model.compile(loss='categorical_crossentropy',optimizer='adam', metrics=['accuracy'])"
   ]
  },
  {
   "cell_type": "code",
   "execution_count": 974,
   "metadata": {},
   "outputs": [
    {
     "name": "stdout",
     "output_type": "stream",
     "text": [
      "_________________________________________________________________\n",
      "Layer (type)                 Output Shape              Param #   \n",
      "=================================================================\n",
      "dense_7 (Dense)              (None, 400)               13200     \n",
      "_________________________________________________________________\n",
      "dense_8 (Dense)              (None, 200)               80200     \n",
      "_________________________________________________________________\n",
      "dense_9 (Dense)              (None, 20)                4020      \n",
      "=================================================================\n",
      "Total params: 97,420\n",
      "Trainable params: 97,420\n",
      "Non-trainable params: 0\n",
      "_________________________________________________________________\n"
     ]
    }
   ],
   "source": [
    "model.summary()"
   ]
  },
  {
   "cell_type": "markdown",
   "metadata": {},
   "source": [
    "# Model Training\n",
    "## This is some results from training the model\n",
    "## Loss seems to be going down slowly\n",
    "## Interestingly val_loss seems to be increasing \n",
    "## I have ploted the loss below\n",
    "## I could not plot accuracy which is weird and I will have to look into what is causing that\n",
    "# Austin"
   ]
  },
  {
   "cell_type": "code",
   "execution_count": 975,
   "metadata": {},
   "outputs": [],
   "source": [
    "history = model.fit(x,y,batch_size = 32, epochs = 160, verbose = 0, validation_split = 0.25)"
   ]
  },
  {
   "cell_type": "code",
   "execution_count": 976,
   "metadata": {},
   "outputs": [],
   "source": [
    "#plt.plot(history.history['loss'])\n",
    "#plt.title('model loss')\n",
    "#plt.ylabel('loss')\n",
    "#plt.xlabel('epoch')\n",
    "#plt.legend(['train'], loc='upper left')\n",
    "#plt.show()\n"
   ]
  },
  {
   "cell_type": "code",
   "execution_count": 977,
   "metadata": {},
   "outputs": [],
   "source": [
    "score = model.evaluate(x,y, verbose=0)"
   ]
  },
  {
   "cell_type": "code",
   "execution_count": 978,
   "metadata": {},
   "outputs": [
    {
     "data": {
      "image/png": "[encoded data removed]",
      "text/plain": [
       "<Figure size 432x288 with 2 Axes>"
      ]
     },
     "metadata": {
      "needs_background": "light"
     },
     "output_type": "display_data"
    }
   ],
   "source": [
    "plt.figure(1)\n",
    "\n",
    "# summarize history for accuracy\n",
    "\n",
    "plt.subplot(211)\n",
    "plt.plot(history.history['acc'])\n",
    "plt.plot(history.history['val_acc'])\n",
    "plt.title('model accuracy')\n",
    "plt.ylabel('accuracy')\n",
    "plt.xlabel('epoch')\n",
    "plt.legend(['train','test'], loc ='upper left')\n",
    "\n",
    "# summarize history for loss\n",
    "\n",
    "plt.subplot(212)\n",
    "plt.plot(history.history['loss'])\n",
    "plt.plot(history.history['val_loss'])\n",
    "plt.title('model loss')\n",
    "plt.ylabel('loss')\n",
    "plt.xlabel('epoch')\n",
    "plt.legend(['train','test'], loc ='upper left')\n",
    "\n",
    "plt.tight_layout()\n",
    "plt.show()"
   ]
  },
  {
   "cell_type": "code",
   "execution_count": 979,
   "metadata": {},
   "outputs": [
    {
     "name": "stdout",
     "output_type": "stream",
     "text": [
      "Test loss: 1.456271064195076\n",
      "Test accuracy: 0.7966101695030056\n"
     ]
    }
   ],
   "source": [
    "print('Test loss:', score[0])\n",
    "print('Test accuracy:', score[1])"
   ]
  },
  {
   "cell_type": "code",
   "execution_count": 980,
   "metadata": {},
   "outputs": [],
   "source": [
    "## PCAs of Data"
   ]
  },
  {
   "cell_type": "code",
   "execution_count": 981,
   "metadata": {},
   "outputs": [],
   "source": [
    "#def func(X):\n",
    " #   return X\n",
    "#xFunc = np.apply_along_axis(func,0,x)\n",
    "\n",
    "\n",
    "#U,S,V = np.linalg.svd(xFunc,full_matrices=True)\n",
    "\n",
    "# Plot the percent of variance accounted for by each feature\n",
    "#plt.plot(100.0*S/np.sum(S))\n",
    "#plt.ylabel(\"Percent Variance\")\n",
    "#plt.xlabel(\"Singular Value\")\n",
    "#plt.show()"
   ]
  },
  {
   "cell_type": "code",
   "execution_count": 982,
   "metadata": {},
   "outputs": [],
   "source": [
    "# https://www.youtube.com/watch?v=Lsue2gEM9D0\n",
    "pca=PCA()\n",
    "pca.fit(x)\n",
    "pca_data = pca.transform(x)"
   ]
  },
  {
   "cell_type": "code",
   "execution_count": 983,
   "metadata": {},
   "outputs": [
    {
     "data": {
      "image/png": "[encoded data removed]",
      "text/plain": [
       "<Figure size 432x288 with 1 Axes>"
      ]
     },
     "metadata": {
      "needs_background": "light"
     },
     "output_type": "display_data"
    }
   ],
   "source": [
    "per_var = np.round(pca.explained_variance_ratio_* 100, decimals = 1)\n",
    "labels = [str(i) for i in range (1, len(per_var)+1)]\n",
    "\n",
    "plt.bar(x=range(1,len(per_var)+1), height=per_var, tick_label=labels)\n",
    "plt.ylabel(\"% var\")\n",
    "plt.xlabel(\"PC\")\n",
    "plt.title(\"Scree Plot\")\n",
    "plt.show()"
   ]
  },
  {
   "cell_type": "code",
   "execution_count": 988,
   "metadata": {},
   "outputs": [
    {
     "data": {
      "image/png": "[encoded data removed]",
      "text/latex": [
       "$$32$$"
      ],
      "text/plain": [
       "32"
      ]
     },
     "metadata": {},
     "output_type": "display_data"
    },
    {
     "data": {
      "image/png": "[encoded data removed]",
      "text/latex": [
       "$$20$$"
      ],
      "text/plain": [
       "20"
      ]
     },
     "metadata": {},
     "output_type": "display_data"
    }
   ],
   "source": [
    "display(x.shape[1])\n",
    "display(y.shape[1])"
   ]
  },
  {
   "cell_type": "code",
   "execution_count": null,
   "metadata": {},
   "outputs": [],
   "source": []
  }
 ],
 "metadata": {
  "kernelspec": {
   "display_name": "Python 3",
   "language": "python",
   "name": "python3"
  },
  "language_info": {
   "codemirror_mode": {
    "name": "ipython",
    "version": 3
   },
   "file_extension": ".py",
   "mimetype": "text/x-python",
   "name": "python",
   "nbconvert_exporter": "python",
   "pygments_lexer": "ipython3",
   "version": "3.6.7"
  }
 },
 "nbformat": 4,
 "nbformat_minor": 2
}
