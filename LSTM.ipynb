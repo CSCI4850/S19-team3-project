{
 "cells": [
  {
   "cell_type": "code",
   "execution_count": 3,
   "metadata": {},
   "outputs": [],
   "source": [
    "# For reading data sets from the web.\n",
    "import pandas\n",
    "# For lots of great things.\n",
    "import numpy as np\n",
    "# To make our plots.\n",
    "import matplotlib.pyplot as plt\n",
    "%matplotlib inline\n",
    "# Because sympy and LaTeX make\n",
    "# everything look wonderful!\n",
    "from sympy import *\n",
    "init_printing(use_latex=True)\n",
    "from IPython.display import display\n",
    "# We will use this to check our implementation...\n",
    "from sklearn.decomposition import PCA\n",
    "# We will grab another data set using Keras\n",
    "# after we finish up with Iris...\n",
    "import keras"
   ]
  },
  {
   "cell_type": "code",
   "execution_count": 5,
   "metadata": {},
   "outputs": [],
   "source": [
    "student_data = np.array(pandas.read_table(\"/nfshome/jms2dv/LSTM/student-mat.csv\", #obviously change the file path.\n",
    "delimiter=\";\", header=0))"
   ]
  },
  {
   "cell_type": "code",
   "execution_count": 6,
   "metadata": {},
   "outputs": [
    {
     "data": {
      "image/png": "[encoded data removed]",
      "text/latex": [
       "$$\\left ( 395, \\quad 33\\right )$$"
      ],
      "text/plain": [
       "(395, 33)"
      ]
     },
     "execution_count": 6,
     "metadata": {},
     "output_type": "execute_result"
    }
   ],
   "source": [
    "student_data.shape"
   ]
  },
  {
   "cell_type": "code",
   "execution_count": 11,
   "metadata": {},
   "outputs": [],
   "source": [
    "Y = student_data[:,32]"
   ]
  },
  {
   "cell_type": "code",
   "execution_count": 12,
   "metadata": {},
   "outputs": [
    {
     "data": {
      "text/plain": [
       "array([6, 6, 10, 15, 10, 15, 11, 6, 19, 15, 9, 12, 14, 11, 16, 14, 14, 10,\n",
       "       5, 10, 15, 15, 16, 12, 8, 8, 11, 15, 11, 11, 12, 17, 16, 12, 15, 6,\n",
       "       18, 15, 11, 13, 11, 12, 18, 11, 9, 6, 11, 20, 14, 7, 13, 13, 10,\n",
       "       11, 13, 10, 15, 15, 9, 16, 11, 11, 9, 9, 10, 15, 12, 6, 8, 16, 15,\n",
       "       10, 5, 14, 11, 10, 10, 11, 10, 5, 12, 11, 6, 15, 10, 8, 6, 14, 10,\n",
       "       7, 8, 18, 6, 10, 14, 10, 15, 10, 14, 8, 5, 17, 14, 6, 18, 11, 8,\n",
       "       18, 13, 16, 19, 10, 13, 19, 9, 16, 14, 13, 8, 13, 15, 15, 13, 13,\n",
       "       8, 12, 11, 9, 0, 18, 0, 0, 12, 11, 0, 0, 0, 0, 12, 15, 0, 9, 11,\n",
       "       13, 0, 11, 0, 11, 0, 10, 0, 14, 10, 0, 12, 8, 13, 10, 15, 12, 0, 7,\n",
       "       0, 10, 7, 12, 10, 16, 0, 14, 0, 16, 10, 0, 9, 9, 11, 6, 9, 11, 8,\n",
       "       12, 17, 8, 12, 11, 11, 15, 9, 10, 13, 9, 8, 10, 14, 15, 16, 10, 18,\n",
       "       10, 16, 10, 10, 6, 11, 9, 7, 13, 10, 7, 8, 13, 14, 8, 10, 15, 4, 8,\n",
       "       8, 10, 6, 0, 17, 13, 14, 7, 15, 12, 9, 12, 14, 11, 9, 13, 6, 10,\n",
       "       13, 12, 11, 0, 12, 12, 0, 12, 0, 18, 13, 8, 5, 15, 8, 10, 8, 8, 12,\n",
       "       8, 13, 11, 14, 0, 18, 8, 12, 9, 0, 17, 10, 11, 10, 0, 9, 14, 11,\n",
       "       14, 10, 12, 9, 9, 8, 10, 8, 10, 12, 10, 11, 11, 19, 12, 14, 15, 11,\n",
       "       15, 13, 18, 14, 11, 0, 8, 14, 16, 11, 10, 14, 18, 13, 12, 18, 8,\n",
       "       12, 10, 0, 13, 11, 11, 13, 11, 0, 9, 10, 11, 13, 9, 11, 15, 15, 11,\n",
       "       16, 10, 9, 14, 8, 14, 0, 0, 0, 15, 13, 0, 17, 10, 11, 0, 15, 0, 10,\n",
       "       14, 16, 9, 15, 13, 8, 13, 8, 8, 11, 9, 13, 11, 10, 16, 13, 12, 10,\n",
       "       15, 12, 10, 13, 0, 10, 11, 9, 12, 11, 5, 19, 10, 15, 10, 15, 10,\n",
       "       14, 7, 10, 0, 5, 10, 6, 0, 8, 0, 9, 16, 7, 10, 9], dtype=object)"
      ]
     },
     "execution_count": 12,
     "metadata": {},
     "output_type": "execute_result"
    },
    {
     "name": "stdout",
     "output_type": "stream",
     "text": [
      "The history saving thread hit an unexpected error (OperationalError('disk I/O error',)).History will not be written to the database.\n"
     ]
    }
   ],
   "source": [
    "Y"
   ]
  },
  {
   "cell_type": "code",
   "execution_count": null,
   "metadata": {},
   "outputs": [],
   "source": []
  }
 ],
 "metadata": {
  "kernelspec": {
   "display_name": "Python 3",
   "language": "python",
   "name": "python3"
  },
  "language_info": {
   "codemirror_mode": {
    "name": "ipython",
    "version": 3
   },
   "file_extension": ".py",
   "mimetype": "text/x-python",
   "name": "python",
   "nbconvert_exporter": "python",
   "pygments_lexer": "ipython3",
   "version": "3.6.7"
  }
 },
 "nbformat": 4,
 "nbformat_minor": 2
}
