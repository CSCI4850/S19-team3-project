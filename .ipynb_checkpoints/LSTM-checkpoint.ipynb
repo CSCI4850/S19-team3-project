{
 "cells": [
  {
   "cell_type": "code",
   "execution_count": 3,
   "metadata": {},
   "outputs": [
    {
     "name": "stderr",
     "output_type": "stream",
     "text": [
      "Using TensorFlow backend.\n"
     ]
    }
   ],
   "source": [
    "# For reading data sets from the web.\n",
    "import pandas\n",
    "# For lots of great things.\n",
    "import numpy as np\n",
    "# To make our plots.\n",
    "import matplotlib.pyplot as plt\n",
    "%matplotlib inline\n",
    "# Because sympy and LaTeX make\n",
    "# everything look wonderful!\n",
    "from sympy import *\n",
    "init_printing(use_latex=True)\n",
    "from IPython.display import display\n",
    "# We will use this to check our implementation...\n",
    "from sklearn.decomposition import PCA\n",
    "# We will grab another data set using Keras\n",
    "# after we finish up with Iris...\n",
    "import keras\n",
    "# Need this for LabelEncoder\n",
    "from sklearn import preprocessing"
   ]
  },
  {
   "cell_type": "code",
   "execution_count": 4,
   "metadata": {},
   "outputs": [],
   "source": [
    "student_data = np.array(pandas.read_table(\"./student-por.csv\",\n",
    "delimiter=\";\", header=0))"
   ]
  },
  {
   "cell_type": "code",
   "execution_count": 5,
   "metadata": {},
   "outputs": [
    {
     "data": {
      "image/png": "[encoded data removed]",
      "text/latex": [
       "$$\\left ( 649, \\quad 33\\right )$$"
      ],
      "text/plain": [
       "(649, 33)"
      ]
     },
     "execution_count": 5,
     "metadata": {},
     "output_type": "execute_result"
    }
   ],
   "source": [
    "student_data.shape"
   ]
  },
  {
   "cell_type": "code",
   "execution_count": 6,
   "metadata": {},
   "outputs": [],
   "source": [
    "le = preprocessing.LabelEncoder()"
   ]
  },
  {
   "cell_type": "markdown",
   "metadata": {},
   "source": [
    "# Encoding non-numeric data to integers"
   ]
  },
  {
   "cell_type": "code",
   "execution_count": 7,
   "metadata": {},
   "outputs": [],
   "source": [
    "# School (binomial)\n",
    "le.fit(student_data[:,0])\n",
    "student_data[:,0] = le.transform(student_data[:,0])"
   ]
  },
  {
   "cell_type": "code",
   "execution_count": 8,
   "metadata": {},
   "outputs": [],
   "source": [
    "# Sex (binomial)\n",
    "le.fit(student_data[:,1])\n",
    "student_data[:,1] = le.transform(student_data[:,1])"
   ]
  },
  {
   "cell_type": "code",
   "execution_count": 9,
   "metadata": {},
   "outputs": [],
   "source": [
    "# address (binomial)\n",
    "le.fit(student_data[:,3])\n",
    "student_data[:,3] = le.transform(student_data[:,3])"
   ]
  },
  {
   "cell_type": "code",
   "execution_count": 10,
   "metadata": {},
   "outputs": [],
   "source": [
    "# Famsize (binomial)\n",
    "le.fit(student_data[:,4])\n",
    "student_data[:,4] = le.transform(student_data[:,4])"
   ]
  },
  {
   "cell_type": "code",
   "execution_count": 11,
   "metadata": {},
   "outputs": [],
   "source": [
    "# Pstatus (binomial)\n",
    "le.fit(student_data[:,5])\n",
    "student_data[:,5] = le.transform(student_data[:,5])"
   ]
  },
  {
   "cell_type": "code",
   "execution_count": 12,
   "metadata": {},
   "outputs": [],
   "source": [
    "# Mjob (nominal)\n",
    "le.fit(student_data[:,8])\n",
    "student_data[:,8] = le.transform(student_data[:,8])"
   ]
  },
  {
   "cell_type": "code",
   "execution_count": 13,
   "metadata": {},
   "outputs": [],
   "source": [
    "# Fjob (nominal)\n",
    "le.fit(student_data[:,9])\n",
    "student_data[:,9] = le.transform(student_data[:,9])"
   ]
  },
  {
   "cell_type": "code",
   "execution_count": 14,
   "metadata": {},
   "outputs": [],
   "source": [
    "# Reason (nominal)\n",
    "le.fit(student_data[:,10])\n",
    "student_data[:,10] = le.transform(student_data[:,10])"
   ]
  },
  {
   "cell_type": "code",
   "execution_count": 15,
   "metadata": {},
   "outputs": [],
   "source": [
    "# Guardian (nominal)\n",
    "le.fit(student_data[:,11])\n",
    "student_data[:,11] = le.transform(student_data[:,11])"
   ]
  },
  {
   "cell_type": "code",
   "execution_count": 16,
   "metadata": {},
   "outputs": [],
   "source": [
    "# schoolsup (binomial)\n",
    "le.fit(student_data[:,15])\n",
    "student_data[:,15] = le.transform(student_data[:,15])"
   ]
  },
  {
   "cell_type": "code",
   "execution_count": 17,
   "metadata": {},
   "outputs": [],
   "source": [
    "# famsup (binomial)\n",
    "le.fit(student_data[:,16])\n",
    "student_data[:,16] = le.transform(student_data[:,16])"
   ]
  },
  {
   "cell_type": "code",
   "execution_count": 18,
   "metadata": {},
   "outputs": [],
   "source": [
    "# paid (binomial)\n",
    "le.fit(student_data[:,17])\n",
    "student_data[:,17] = le.transform(student_data[:,17])"
   ]
  },
  {
   "cell_type": "code",
   "execution_count": 19,
   "metadata": {},
   "outputs": [],
   "source": [
    "# activities (binomial)\n",
    "le.fit(student_data[:,18])\n",
    "student_data[:,18] = le.transform(student_data[:,18])"
   ]
  },
  {
   "cell_type": "code",
   "execution_count": 20,
   "metadata": {},
   "outputs": [],
   "source": [
    "# nursery (binomial)\n",
    "le.fit(student_data[:,19])\n",
    "student_data[:,19] = le.transform(student_data[:,19])"
   ]
  },
  {
   "cell_type": "code",
   "execution_count": 21,
   "metadata": {},
   "outputs": [],
   "source": [
    "# higher (binomial)\n",
    "le.fit(student_data[:,20])\n",
    "student_data[:,20] = le.transform(student_data[:,20])"
   ]
  },
  {
   "cell_type": "code",
   "execution_count": 22,
   "metadata": {},
   "outputs": [],
   "source": [
    "# internet (binomial)\n",
    "le.fit(student_data[:,21])\n",
    "student_data[:,21] = le.transform(student_data[:,21])"
   ]
  },
  {
   "cell_type": "code",
   "execution_count": 23,
   "metadata": {},
   "outputs": [],
   "source": [
    "# romantic (binomial)\n",
    "le.fit(student_data[:,22])\n",
    "student_data[:,22] = le.transform(student_data[:,22])"
   ]
  },
  {
   "cell_type": "code",
   "execution_count": 24,
   "metadata": {},
   "outputs": [
    {
     "data": {
      "text/plain": [
       "array([[0, 0, 18, ..., 0, 11, 11],\n",
       "       [0, 0, 17, ..., 9, 11, 11],\n",
       "       [0, 0, 15, ..., 12, 13, 12],\n",
       "       ...,\n",
       "       [1, 0, 18, ..., 11, 12, 9],\n",
       "       [1, 1, 17, ..., 10, 10, 10],\n",
       "       [1, 1, 18, ..., 10, 11, 11]], dtype=object)"
      ]
     },
     "execution_count": 24,
     "metadata": {},
     "output_type": "execute_result"
    }
   ],
   "source": [
    "student_data"
   ]
  },
  {
   "cell_type": "markdown",
   "metadata": {},
   "source": [
    "# Encoding 0's to -1 for binomial data."
   ]
  },
  {
   "cell_type": "markdown",
   "metadata": {},
   "source": [
    "### Surely there's a one line method to do this... right, Keras?"
   ]
  },
  {
   "cell_type": "code",
   "execution_count": 25,
   "metadata": {},
   "outputs": [],
   "source": [
    "school = student_data[:,0]\n",
    "school = np.where(school==0, -1, school)\n",
    "student_data[:,0] = school"
   ]
  },
  {
   "cell_type": "code",
   "execution_count": 26,
   "metadata": {},
   "outputs": [],
   "source": [
    "sex = student_data[:,1]\n",
    "sex = np.where(sex==0, -1, sex)\n",
    "student_data[:,1] = sex"
   ]
  },
  {
   "cell_type": "code",
   "execution_count": 27,
   "metadata": {},
   "outputs": [],
   "source": [
    "address = student_data[:,3]\n",
    "address = np.where(address==0, -1, address)\n",
    "student_data[:,3] = address"
   ]
  },
  {
   "cell_type": "code",
   "execution_count": 28,
   "metadata": {},
   "outputs": [],
   "source": [
    "famsize = student_data[:,4]\n",
    "famsize = np.where(famsize==0, -1, famsize)\n",
    "student_data[:,4] = famsize"
   ]
  },
  {
   "cell_type": "code",
   "execution_count": 29,
   "metadata": {},
   "outputs": [],
   "source": [
    "Pstatus = student_data[:,5]\n",
    "Pstatus = np.where(Pstatus==0, -1, Pstatus)\n",
    "student_data[:,5] = Pstatus"
   ]
  },
  {
   "cell_type": "code",
   "execution_count": 30,
   "metadata": {},
   "outputs": [],
   "source": [
    "schoolsup = student_data[:,15]\n",
    "schoolsup = np.where(schoolsup==0, -1, schoolsup)\n",
    "student_data[:,15] = schoolsup"
   ]
  },
  {
   "cell_type": "code",
   "execution_count": 31,
   "metadata": {},
   "outputs": [],
   "source": [
    "famsup = student_data[:,16]\n",
    "famsup = np.where(famsup==0, -1, famsup)\n",
    "student_data[:,16] = famsup"
   ]
  },
  {
   "cell_type": "code",
   "execution_count": 32,
   "metadata": {},
   "outputs": [],
   "source": [
    "paid = student_data[:,17]\n",
    "paid = np.where(paid==0, -1, paid)\n",
    "student_data[:,17] = paid"
   ]
  },
  {
   "cell_type": "code",
   "execution_count": 33,
   "metadata": {},
   "outputs": [],
   "source": [
    "activities = student_data[:,18]\n",
    "activities = np.where(activities==0, -1, activities)\n",
    "student_data[:,18] = activities"
   ]
  },
  {
   "cell_type": "code",
   "execution_count": 34,
   "metadata": {},
   "outputs": [],
   "source": [
    "nursery = student_data[:,19]\n",
    "nursery = np.where(nursery==0, -1, nursery)\n",
    "student_data[:,19] = nursery"
   ]
  },
  {
   "cell_type": "code",
   "execution_count": 35,
   "metadata": {},
   "outputs": [],
   "source": [
    "higher = student_data[:,20]\n",
    "higher = np.where(higher==0, -1, higher)\n",
    "student_data[:,20] = higher"
   ]
  },
  {
   "cell_type": "code",
   "execution_count": 36,
   "metadata": {},
   "outputs": [],
   "source": [
    "internet = student_data[:,21]\n",
    "internet = np.where(internet==0, -1, internet)\n",
    "student_data[:,21] = internet"
   ]
  },
  {
   "cell_type": "code",
   "execution_count": 37,
   "metadata": {},
   "outputs": [],
   "source": [
    "romantic = student_data[:,22]\n",
    "romantic = np.where(romantic==0, -1, romantic)\n",
    "student_data[:,22] = romantic"
   ]
  },
  {
   "cell_type": "markdown",
   "metadata": {},
   "source": [
    "# Standardizing the nominal and numerical data."
   ]
  },
  {
   "cell_type": "code",
   "execution_count": 38,
   "metadata": {},
   "outputs": [],
   "source": [
    "scaler = preprocessing.StandardScaler()"
   ]
  },
  {
   "cell_type": "markdown",
   "metadata": {},
   "source": [
    "### I don't think this warning is THAT concerning"
   ]
  },
  {
   "cell_type": "code",
   "execution_count": 39,
   "metadata": {},
   "outputs": [
    {
     "name": "stderr",
     "output_type": "stream",
     "text": [
      "/nfshome/apps/python-3.6.7/lib/python3.6/site-packages/sklearn/utils/validation.py:590: DataConversionWarning: Data with input dtype object was converted to float64 by StandardScaler.\n",
      "  warnings.warn(msg, DataConversionWarning)\n",
      "/nfshome/apps/python-3.6.7/lib/python3.6/site-packages/sklearn/utils/validation.py:590: DataConversionWarning: Data with input dtype object was converted to float64 by StandardScaler.\n",
      "  warnings.warn(msg, DataConversionWarning)\n"
     ]
    }
   ],
   "source": [
    "temp = student_data[:,[2,6,7,8,9,10,11,12,13,14,23,24,25,26,27,28,29]]\n",
    "Standardized = scaler.fit_transform(temp)"
   ]
  },
  {
   "cell_type": "markdown",
   "metadata": {},
   "source": [
    "### Not sure about the -0.0 for the mean..."
   ]
  },
  {
   "cell_type": "code",
   "execution_count": 40,
   "metadata": {},
   "outputs": [
    {
     "name": "stdout",
     "output_type": "stream",
     "text": [
      "Mean: -0.0\n",
      "Standard deviation: 1.0\n"
     ]
    }
   ],
   "source": [
    "print('Mean:', round(Standardized.mean()))\n",
    "print('Standard deviation:', Standardized.std())"
   ]
  },
  {
   "cell_type": "code",
   "execution_count": 41,
   "metadata": {},
   "outputs": [],
   "source": [
    "student_data[:,[2,6,7,8,9,10,11,12,13,14,23,24,25,26,27,28,29]] = Standardized"
   ]
  },
  {
   "cell_type": "code",
   "execution_count": 42,
   "metadata": {},
   "outputs": [],
   "source": [
    "x = student_data[:,0:30]"
   ]
  },
  {
   "cell_type": "code",
   "execution_count": 43,
   "metadata": {},
   "outputs": [
    {
     "data": {
      "text/plain": [
       "array([-1, -1, 1.0316951635937113, 1, -1, -1, 1.310215632680141,\n",
       "       1.5407154371084224, -1.556452535644832, 2.057247821444129,\n",
       "       -0.9339740507872134, 0.3326475069742609, 0.5767179914572501,\n",
       "       0.08365294968062233, -0.3743051181921297, 1, -1, -1, -1, 1, 1, -1,\n",
       "       -1, 0.07260614867809903, -0.17164653548813819, 0.6937849605682166,\n",
       "       -0.5435553304269218, -0.9976946599159401, -0.3710421971530383,\n",
       "       0.0734333641512146], dtype=object)"
      ]
     },
     "execution_count": 43,
     "metadata": {},
     "output_type": "execute_result"
    }
   ],
   "source": [
    "x[0,0:]"
   ]
  },
  {
   "cell_type": "code",
   "execution_count": 44,
   "metadata": {},
   "outputs": [],
   "source": [
    "results = student_data[:,32] # output vector"
   ]
  },
  {
   "cell_type": "markdown",
   "metadata": {},
   "source": [
    "### Convert results to one-hot encoding\n",
    "#### the actual output vector doesn't include at least one example of each possible grade so I made a vector of all possibilities for to_categorical"
   ]
  },
  {
   "cell_type": "code",
   "execution_count": 45,
   "metadata": {},
   "outputs": [],
   "source": [
    "possible_results = [0,1,2,3,4,5,6,7,8,9,10,11,12,13,14,15,16,17,18,19]"
   ]
  },
  {
   "cell_type": "code",
   "execution_count": 46,
   "metadata": {},
   "outputs": [],
   "source": [
    "y = keras.utils.to_categorical(results, len(possible_results))"
   ]
  },
  {
   "cell_type": "markdown",
   "metadata": {},
   "source": [
    "# Data is now preprocessed"
   ]
  },
  {
   "cell_type": "markdown",
   "metadata": {},
   "source": [
    "### Note: columns 31 and 32 are not used. I do not believe they are useful for our net."
   ]
  },
  {
   "cell_type": "code",
   "execution_count": 99,
   "metadata": {},
   "outputs": [],
   "source": [
    "model = keras.Sequential()"
   ]
  },
  {
   "cell_type": "code",
   "execution_count": 100,
   "metadata": {},
   "outputs": [],
   "source": [
    "input_size = x.shape[1]\n",
    "output_size = y.shape[1]"
   ]
  },
  {
   "cell_type": "code",
   "execution_count": 101,
   "metadata": {},
   "outputs": [],
   "source": [
    "# create the hidden layer\n",
    "model.add(keras.layers.Dense(400,input_dim=input_size,activation='relu'))"
   ]
  },
  {
   "cell_type": "code",
   "execution_count": 102,
   "metadata": {},
   "outputs": [],
   "source": [
    "model.add(keras.layers.Dense(200,activation='relu'))"
   ]
  },
  {
   "cell_type": "code",
   "execution_count": 103,
   "metadata": {},
   "outputs": [],
   "source": [
    "# output layer\n",
    "model.add(keras.layers.Dense(output_size,activation='softmax'))"
   ]
  },
  {
   "cell_type": "code",
   "execution_count": 104,
   "metadata": {},
   "outputs": [],
   "source": [
    "# compile\n",
    "model.compile(loss='categorical_crossentropy',optimizer='adam', metrics=['accuracy'])"
   ]
  },
  {
   "cell_type": "code",
   "execution_count": 105,
   "metadata": {},
   "outputs": [
    {
     "name": "stdout",
     "output_type": "stream",
     "text": [
      "_________________________________________________________________\n",
      "Layer (type)                 Output Shape              Param #   \n",
      "=================================================================\n",
      "dense_10 (Dense)             (None, 400)               12400     \n",
      "_________________________________________________________________\n",
      "dense_11 (Dense)             (None, 200)               80200     \n",
      "_________________________________________________________________\n",
      "dense_12 (Dense)             (None, 20)                4020      \n",
      "=================================================================\n",
      "Total params: 96,620\n",
      "Trainable params: 96,620\n",
      "Non-trainable params: 0\n",
      "_________________________________________________________________\n"
     ]
    }
   ],
   "source": [
    "model.summary()"
   ]
  },
  {
   "cell_type": "markdown",
   "metadata": {},
   "source": [
    "# Model Training\n",
    "## This is some results from training the model\n",
    "## Loss seems to be going down slowly\n",
    "## Interestingly val_loss seems to be increasing \n",
    "## I have ploted the loss below\n",
    "## I could not plot accuracy which is weird and I will have to look into what is causing that\n",
    "# Austin"
   ]
  },
  {
   "cell_type": "code",
   "execution_count": 106,
   "metadata": {},
   "outputs": [],
   "source": [
    "history = model.fit(x,y,batch_size = 32, epochs = 160, verbose = 0, validation_split = 0.25)\n"
   ]
  },
  {
   "cell_type": "code",
   "execution_count": 107,
   "metadata": {},
   "outputs": [
    {
     "data": {
      "image/png": "[encoded data removed]",
      "text/plain": [
       "<Figure size 432x288 with 1 Axes>"
      ]
     },
     "metadata": {
      "needs_background": "light"
     },
     "output_type": "display_data"
    }
   ],
   "source": [
    "plt.plot(history.history['loss'])\n",
    "plt.title('model loss')\n",
    "plt.ylabel('loss')\n",
    "plt.xlabel('epoch')\n",
    "plt.legend(['train'], loc='upper left')\n",
    "plt.show()\n"
   ]
  },
  {
   "cell_type": "code",
   "execution_count": 108,
   "metadata": {},
   "outputs": [
    {
     "name": "stdout",
     "output_type": "stream",
     "text": [
      "Test loss: 1.848163091154261\n",
      "Test accuracy: 0.785824345146379\n"
     ]
    }
   ],
   "source": [
    "score = model.evaluate(x,y, verbose=0)\n",
    "print('Test loss:', score[0])\n",
    "print('Test accuracy:', score[1])"
   ]
  },
  {
   "cell_type": "code",
   "execution_count": null,
   "metadata": {},
   "outputs": [],
   "source": []
  }
 ],
 "metadata": {
  "kernelspec": {
   "display_name": "Python 3",
   "language": "python",
   "name": "python3"
  },
  "language_info": {
   "codemirror_mode": {
    "name": "ipython",
    "version": 3
   },
   "file_extension": ".py",
   "mimetype": "text/x-python",
   "name": "python",
   "nbconvert_exporter": "python",
   "pygments_lexer": "ipython3",
   "version": "3.6.7"
  }
 },
 "nbformat": 4,
 "nbformat_minor": 2
}
