{
 "cells": [
  {
   "cell_type": "markdown",
   "metadata": {},
   "source": [
    "### TEAM 3: LSTM – PROJECT PROPOSAL\n",
    "\n",
    "### Determining Factors Which Lead to Student Success\n",
    "\n",
    "Using data gathered concerning students in secondary education in Portugal, we plan to find which features most affect student performance and test various neural network techniques to ascertain the most accurate methods of prediction. By focusing on the most important features in the dataset and evaluating various techniques, we hope to predict students’ final grade in mathematics. By determining which features are having an impact on students’ scores, it is hoped that outreach programs may more effectively work to aid students.\n",
    "\n",
    "We plan to use neural networks to predict student’s test scores based on input about their demographics and grades that they have achieved throughout a school year.. For our network, we plan to start with a basic three layer perceptron. The input layer will have a size of 33, and our output layer (test scores) will have a size of 20. We plan to optimize this network as we test. Other architectures and techniques may also be considered as we continue working with the dataset.\n",
    "\n",
    "The dataset we are using is provided in the UCI Machine Learning Repository at https://archive.ics.uci.edu/ml/datasets/student+performance. It contains information on 649 Portuguese students which was collected through school reports and surveys. The information collected about the students includes demographic information along with scores they achieved in two critical subjects, mathematics and the Portuguese language. We plan to begin our work with the data concerning student performance in mathematics. In order to determine which features in the dataset are linked to student performance, we will test the network using different subsets of features.\n",
    "\n",
    "We will be able to compare our final prediction capabilities with the paper provided along with the dataset (http://www3.dsi.uminho.pt/pcortez/student.pdf), which did not achieve satisfactory results when using a neural network. The paper’s authors believe that certain features are not necessary to the prediction of student success and that neural networks have trouble separating those features that are not beneficial in prediction and those which are beneficial. By ascertaining the features that impact student performance the most, we hope to improve the effectiveness of the neural network approach. In addition, by considering alternative approaches, we may find a technique or architecture which provides better performance. Our success will be measured by how accurately our network can predict the students’ final scores in mathematics.\n"
   ]
  }
 ],
 "metadata": {
  "kernelspec": {
   "display_name": "Python 3",
   "language": "python",
   "name": "python3"
  },
  "language_info": {
   "codemirror_mode": {
    "name": "ipython",
    "version": 3
   },
   "file_extension": ".py",
   "mimetype": "text/x-python",
   "name": "python",
   "nbconvert_exporter": "python",
   "pygments_lexer": "ipython3",
   "version": "3.6.7"
  }
 },
 "nbformat": 4,
 "nbformat_minor": 2
}
