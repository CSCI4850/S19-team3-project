{
 "cells": [
  {
   "cell_type": "markdown",
   "metadata": {},
   "source": [
    "# TEAM 3: LSTM – PROJECT PROPOSAL"
   ]
  },
  {
   "cell_type": "markdown",
   "metadata": {},
   "source": [
    "### \tOur project will branch off the research performed by Paulo Cortez and Alive Silva regarding the performance in the subjects of Math and Portuguese of students ages fifteen to twenty-two in Portugal. In their study, they came to the conclusion that the final grade could be predicted with a relatively high level of accuracy using different data mining methods, but previous grades were required to reach this result. Our aim is to find the two most influential factors that affect student performance (from the twenty-nine covered in Cortez and Silva’s research) and look for a relationship between them and final grade in hopes that this information would help outreach programs better target students.  If we are unable to complete this task in a timely manner, we will shift our focus to improving the neural network that was used in the original study by trying different architectures and data encoding techniques.\n",
    "### \tThe data sets we will be using are the student-mat.csv and student-por.csv which contain the students’ grades (two mid-year and then a final) for Math and Portuguese, respectively, along with student responses gathered through a questionnaire featuring twenty-nine factors covering educational, social, emotional, and demographic backgrounds. Possible values for student grades are discrete numerical values ranging from one to twenty. The rest of the features are classified with either two or five levels [1]. \n",
    "### \tFor our network, we plan to start with a basic three layer perceptron. The input layer will have a size of thirty-one, and our output layer (final grade) will have a size of twenty. We will try to achieve the same level of accuracy as the original study. From there, we will add more hidden layers which might prove beneficial as it would be difficult to define a function that relates all thirty-one inputs to the twenty outputs using a single hidden layer. Once we determine if this was a beneficial change, we will begin predicting final grades, removing only one factor every trial to see if there are any that either do not affect accuracy or affect it positively once eliminated. We will then test the network with these features removed to see if accuracy was improved. Moving forward, we will experiment with different activation functions, learning rates, optimizers, and bias weights.\n",
    "### \tOnce we have found an optimal architecture, we will commence testing our data. We will first predict final grades using all possible features (control trial), then with one feature removed every trial (experimental trials) with several runs in each trial. Mean accuracy will be recorded for each trial. The two most influential features (other than the mid-year grades recorded before the final) will be determined by subtracting the experimental trial mean from the control trial mean. The two features that produce largest, negative differences will be deemed the most influential in determining final grade. These features will then be plotted on a three-dimensional plot with final grade being the third variable. If our test is successful, we should be able to find a distinguishable relationship between these two features and final grade.\n",
    "\n",
    "#### References\n",
    "\n",
    "#### [1] P. Cortez and A. Silva. Using Data Mining to Predict Secondary School Student Performance. In A. Brito and J. Teixeira Eds., Proceedings of 5th FUture BUsiness TEChnology Conference (FUBUTEC 2008) pp. 5-12, Porto, Portugal, April, 2008, EUROSIS, ISBN 978-9077381-39-7. "
   ]
  },
  {
   "cell_type": "code",
   "execution_count": null,
   "metadata": {},
   "outputs": [],
   "source": []
  }
 ],
 "metadata": {
  "kernelspec": {
   "display_name": "Python 3",
   "language": "python",
   "name": "python3"
  },
  "language_info": {
   "name": ""
  }
 },
 "nbformat": 4,
 "nbformat_minor": 2
}
