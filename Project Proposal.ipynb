{
 "cells": [
  {
   "cell_type": "markdown",
   "metadata": {},
   "source": [
    "# TEAM 3: LSTM – PROJECT PROPOSAL"
   ]
  },
  {
   "cell_type": "markdown",
   "metadata": {},
   "source": [
    "### \tOur project will branch off the research performed by Paulo Cortez and Alive Silva regarding the performance in the subjects of Math and Portuguese of students ages fifteen to twenty-two in Portugal. In their study, they came to the conclusion that the final grade could be predicted with a relatively high level of accuracy using different data mining methods, but previous grades were required to reach this result. Our aim is to find the most influential non-academic factors that affect student performance (from the twenty-nine covered in Cortez and Silva’s research) and look for a relationship between them and final grade in hopes that this information would help outreach programs better target students.  If we are unable to complete this task in a timely manner, we will shift our focus to improving the neural network that was used in the original study by trying different architectures and data encoding techniques.\n",
    "### \tThe data set we will be using is student-por.csv which contain the students’ grades (two mid-year and then a final) for Portuguese along with student responses gathered through a questionnaire featuring twenty-nine factors covering educational, social, emotional, and demographic backgrounds. Possible values for student grades are discrete numerical values ranging from one to twenty. The rest of the features are classified with either two or five levels [1]. \n",
    "### \tFor our network, we plan to start with a basic three layer perceptron. The input layer will have a size of thirty-one, and our output layer (final grade) will have a size of twenty. We will try to achieve the same level of accuracy as the original study. From there, we will add more hidden layers which might prove beneficial as it would be difficult to define a function that relates all thirty-one inputs to the twenty outputs using a single hidden layer. Once we determine if this was a beneficial change, we will begin predicting final grades, removing only one factor every trial to see if there are any that either do not affect accuracy or affect it positively once eliminated. We will then test the network with these features removed to see if accuracy was improved. Moving forward, we will experiment with different activation functions, learning rates, optimizers, and bias weights.\n",
    "### \tOnce we have found an optimal architecture, we will commence testing our data. We will first predict final grades using all possible features (control trial), then with one feature removed every trial (experimental trials) with several runs in each trial. The top five non-academic features whose removal most improved accuracy will be removed from the input fed into a new, similar model in hopes of increasing accuracy. The top five features whose removal proved to be detrimental to network accuracy will be analyzed independently. Bar graphs will be created to visualize the distribution of student grades for these features.\n",
    "\n",
    "#### References\n",
    "\n",
    "#### [1] P. Cortez and A. Silva. Using Data Mining to Predict Secondary School Student Performance. In A. Brito and J. Teixeira Eds., Proceedings of 5th FUture BUsiness TEChnology Conference (FUBUTEC 2008) pp. 5-12, Porto, Portugal, April, 2008, EUROSIS, ISBN 978-9077381-39-7. "
   ]
  }
 ],
 "metadata": {
  "kernelspec": {
   "display_name": "Python 3",
   "language": "python",
   "name": "python3"
  },
  "language_info": {
   "codemirror_mode": {
    "name": "ipython",
    "version": 3
   },
   "file_extension": ".py",
   "mimetype": "text/x-python",
   "name": "python",
   "nbconvert_exporter": "python",
   "pygments_lexer": "ipython3",
   "version": "3.6.7"
  }
 },
 "nbformat": 4,
 "nbformat_minor": 2
}
