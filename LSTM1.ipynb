{
 "cells": [
  {
   "cell_type": "code",
   "execution_count": 12,
   "metadata": {},
   "outputs": [],
   "source": [
    "# For reading data sets from the web.\n",
    "import pandas\n",
    "# For lots of great things.\n",
    "import numpy as np\n",
    "# To make our plots.\n",
    "import matplotlib.pyplot as plt\n",
    "%matplotlib inline\n",
    "# Because sympy and LaTeX make\n",
    "# everything look wonderful!\n",
    "from sympy import *\n",
    "init_printing(use_latex=True)\n",
    "from IPython.display import display\n",
    "# We will use this to check our implementation...\n",
    "from sklearn.decomposition import PCA\n",
    "# We will grab another data set using Keras\n",
    "# after we finish up with Iris...\n",
    "import keras\n",
    "# Need this for LabelEncoder\n",
    "from sklearn import preprocessing"
   ]
  },
  {
   "cell_type": "code",
   "execution_count": 13,
   "metadata": {},
   "outputs": [],
   "source": [
    "student_data = np.array(pandas.read_table(\"./student-por.csv\",\n",
    "delimiter=\";\", header=0))\n",
    "\n"
   ]
  },
  {
   "cell_type": "code",
   "execution_count": 14,
   "metadata": {},
   "outputs": [
    {
     "data": {
      "text/plain": [
       "array([['GP', 'F', 15, ..., 12, 12, 12],\n",
       "       ['MS', 'M', 19, ..., 5, 8, 0],\n",
       "       ['MS', 'M', 18, ..., 9, 10, 9],\n",
       "       ...,\n",
       "       ['GP', 'F', 15, ..., 13, 12, 12],\n",
       "       ['GP', 'M', 16, ..., 11, 10, 10],\n",
       "       ['MS', 'F', 18, ..., 13, 12, 13]], dtype=object)"
      ]
     },
     "execution_count": 14,
     "metadata": {},
     "output_type": "execute_result"
    }
   ],
   "source": [
    "np.random.shuffle(student_data)\n",
    "student_data"
   ]
  },
  {
   "cell_type": "code",
   "execution_count": 15,
   "metadata": {},
   "outputs": [
    {
     "name": "stdout",
     "output_type": "stream",
     "text": [
      "The history saving thread hit an unexpected error (OperationalError('disk I/O error',)).History will not be written to the database."
     ]
    },
    {
     "data": {
      "text/plain": [
       "array([12, 0, 9, 0, 14, 11, 7, 14, 13, 14, 18, 12, 8, 17, 16, 14, 11, 11,\n",
       "       13, 14, 12, 10, 10, 8, 16, 15, 11, 11, 7, 14, 13, 12, 11, 9, 14,\n",
       "       10, 9, 17, 13, 10, 17, 10, 13, 11, 9, 10, 18, 9, 10, 12, 9, 9, 13,\n",
       "       7, 11, 10, 14, 6, 17, 17, 14, 10, 11, 10, 12, 13, 12, 11, 14, 14,\n",
       "       9, 17, 16, 11, 7, 11, 13, 10, 10, 13, 11, 17, 9, 14, 17, 8, 8, 13,\n",
       "       17, 10, 10, 15, 11, 17, 12, 0, 12, 15, 12, 16, 11, 13, 10, 15, 15,\n",
       "       16, 15, 14, 13, 13, 15, 11, 6, 9, 0, 15, 10, 10, 10, 16, 10, 15,\n",
       "       11, 11, 11, 10, 12, 11, 11, 15, 11, 14, 14, 11, 13, 10, 12, 11, 14,\n",
       "       15, 13, 18, 14, 11, 8, 10, 12, 11, 10, 10, 17, 14, 14, 8, 13, 13,\n",
       "       13, 10, 15, 11, 10, 12, 10, 15, 12, 12, 11, 14, 14, 13, 16, 14, 13,\n",
       "       11, 11, 9, 11, 13, 12, 9, 17, 13, 12, 16, 1, 11, 8, 17, 10, 13, 8,\n",
       "       15, 11, 15, 10, 12, 12, 8, 16, 13, 17, 10, 7, 12, 8, 14, 17, 10,\n",
       "       11, 13, 12, 13, 18, 16, 12, 12, 11, 13, 10, 19, 12, 12, 14, 9, 8,\n",
       "       12, 11, 10, 11, 16, 13, 11, 8, 8, 14, 9, 12, 18, 11, 11, 10, 9, 11,\n",
       "       0, 13, 16, 14, 15, 18, 11, 14, 12, 13, 15, 11, 11, 14, 9, 18, 11,\n",
       "       14, 17, 16, 16, 12, 10, 13, 15, 18, 0, 10, 10, 15, 17, 12, 14, 18,\n",
       "       13, 10, 12, 15, 12, 13, 9, 13, 15, 11, 11, 14, 13, 8, 15, 11, 11,\n",
       "       17, 10, 14, 10, 10, 10, 12, 15, 10, 10, 14, 8, 10, 11, 14, 11, 9,\n",
       "       11, 13, 14, 11, 10, 15, 0, 0, 14, 17, 11, 11, 16, 14, 15, 15, 11,\n",
       "       11, 13, 14, 11, 12, 10, 9, 12, 13, 16, 14, 8, 15, 11, 12, 10, 13,\n",
       "       16, 12, 11, 11, 13, 14, 7, 11, 15, 16, 9, 11, 9, 16, 11, 10, 15,\n",
       "       12, 10, 11, 12, 12, 10, 10, 13, 12, 13, 18, 12, 10, 11, 11, 10, 15,\n",
       "       8, 10, 14, 16, 8, 14, 8, 10, 13, 10, 11, 13, 13, 11, 13, 9, 17, 18,\n",
       "       9, 9, 7, 12, 14, 8, 11, 15, 10, 14, 14, 13, 10, 18, 13, 11, 11, 12,\n",
       "       10, 13, 10, 14, 11, 15, 8, 12, 11, 15, 11, 13, 11, 13, 13, 18, 11,\n",
       "       11, 11, 13, 10, 15, 8, 16, 13, 13, 10, 12, 8, 16, 10, 15, 10, 11,\n",
       "       13, 16, 13, 10, 8, 8, 12, 17, 7, 13, 11, 14, 10, 11, 12, 12, 11,\n",
       "       13, 9, 10, 0, 13, 11, 17, 10, 8, 13, 13, 15, 13, 9, 15, 13, 12, 10,\n",
       "       9, 8, 16, 12, 10, 10, 14, 7, 16, 10, 0, 11, 10, 13, 11, 14, 15, 15,\n",
       "       16, 12, 13, 14, 11, 13, 13, 12, 17, 0, 16, 10, 13, 11, 12, 15, 16,\n",
       "       9, 9, 17, 10, 12, 13, 11, 10, 15, 16, 10, 16, 12, 12, 12, 9, 10,\n",
       "       12, 15, 11, 15, 19, 0, 14, 16, 8, 15, 15, 10, 10, 12, 18, 16, 7,\n",
       "       13, 11, 11, 10, 14, 10, 10, 9, 15, 17, 13, 10, 11, 9, 11, 12, 14,\n",
       "       10, 11, 0, 13, 11, 14, 17, 14, 13, 12, 12, 13, 13, 11, 10, 11, 10,\n",
       "       16, 8, 10, 10, 14, 10, 16, 14, 10, 12, 17, 10, 6, 8, 15, 16, 9, 17,\n",
       "       10, 11, 8, 13, 12, 18, 13, 10, 17, 13, 10, 11, 14, 14, 14, 12, 0,\n",
       "       12, 5, 15, 13, 11, 16, 8, 11, 15, 8, 11, 12, 9, 13, 14, 14, 8, 11,\n",
       "       14, 8, 12, 0, 12, 9, 12, 10, 13], dtype=object)"
      ]
     },
     "execution_count": 15,
     "metadata": {},
     "output_type": "execute_result"
    },
    {
     "name": "stdout",
     "output_type": "stream",
     "text": [
      "\n"
     ]
    }
   ],
   "source": [
    "scores = student_data[:,32]\n",
    "scores\n"
   ]
  },
  {
   "cell_type": "code",
   "execution_count": 16,
   "metadata": {},
   "outputs": [],
   "source": [
    "for i in range(len(scores)):\n",
    "    if(scores[i] > 18):\n",
    "        scores[i] = 4\n",
    "    elif(scores[i] > 16):\n",
    "        scores[i] = 3\n",
    "    elif(scores[i] > 14):\n",
    "        scores[i] = 2\n",
    "    elif(scores[i] > 12):\n",
    "        scores[i] = 1\n",
    "    else:\n",
    "        scores[i] = 0\n"
   ]
  },
  {
   "cell_type": "code",
   "execution_count": 17,
   "metadata": {},
   "outputs": [
    {
     "data": {
      "text/plain": [
       "array([['GP', 'F', 15, ..., 12, 12, 0],\n",
       "       ['MS', 'M', 19, ..., 5, 8, 0],\n",
       "       ['MS', 'M', 18, ..., 9, 10, 0],\n",
       "       ...,\n",
       "       ['GP', 'F', 15, ..., 13, 12, 0],\n",
       "       ['GP', 'M', 16, ..., 11, 10, 0],\n",
       "       ['MS', 'F', 18, ..., 13, 12, 1]], dtype=object)"
      ]
     },
     "execution_count": 17,
     "metadata": {},
     "output_type": "execute_result"
    }
   ],
   "source": [
    "for i in range(len(scores)):\n",
    "    student_data[i,32] = scores[i]\n",
    "    \n",
    "student_data"
   ]
  },
  {
   "cell_type": "code",
   "execution_count": 18,
   "metadata": {},
   "outputs": [
    {
     "data": {
      "image/png": "[encoded data removed]",
      "text/latex": [
       "$$\\left ( 649, \\quad 33\\right )$$"
      ],
      "text/plain": [
       "(649, 33)"
      ]
     },
     "execution_count": 18,
     "metadata": {},
     "output_type": "execute_result"
    }
   ],
   "source": [
    "student_data.shape"
   ]
  },
  {
   "cell_type": "code",
   "execution_count": 19,
   "metadata": {},
   "outputs": [],
   "source": [
    "le = preprocessing.LabelEncoder()"
   ]
  },
  {
   "cell_type": "markdown",
   "metadata": {},
   "source": [
    "# Encoding non-numeric data to integers"
   ]
  },
  {
   "cell_type": "code",
   "execution_count": 20,
   "metadata": {},
   "outputs": [],
   "source": [
    "# School (binomial)\n",
    "le.fit(student_data[:,0])\n",
    "student_data[:,0] = le.transform(student_data[:,0])"
   ]
  },
  {
   "cell_type": "code",
   "execution_count": 21,
   "metadata": {},
   "outputs": [],
   "source": [
    "# Sex (binomial)\n",
    "le.fit(student_data[:,1])\n",
    "student_data[:,1] = le.transform(student_data[:,1])"
   ]
  },
  {
   "cell_type": "code",
   "execution_count": 22,
   "metadata": {},
   "outputs": [],
   "source": [
    "# address (binomial)\n",
    "le.fit(student_data[:,3])\n",
    "student_data[:,3] = le.transform(student_data[:,3])"
   ]
  },
  {
   "cell_type": "code",
   "execution_count": 23,
   "metadata": {},
   "outputs": [],
   "source": [
    "# Famsize (binomial)\n",
    "le.fit(student_data[:,4])\n",
    "student_data[:,4] = le.transform(student_data[:,4])"
   ]
  },
  {
   "cell_type": "code",
   "execution_count": 24,
   "metadata": {},
   "outputs": [],
   "source": [
    "# Pstatus (binomial)\n",
    "le.fit(student_data[:,5])\n",
    "student_data[:,5] = le.transform(student_data[:,5])"
   ]
  },
  {
   "cell_type": "code",
   "execution_count": 25,
   "metadata": {},
   "outputs": [],
   "source": [
    "# Mjob (nominal)\n",
    "le.fit(student_data[:,8])\n",
    "student_data[:,8] = le.transform(student_data[:,8])"
   ]
  },
  {
   "cell_type": "code",
   "execution_count": 26,
   "metadata": {},
   "outputs": [],
   "source": [
    "# Fjob (nominal)\n",
    "le.fit(student_data[:,9])\n",
    "student_data[:,9] = le.transform(student_data[:,9])"
   ]
  },
  {
   "cell_type": "code",
   "execution_count": 27,
   "metadata": {},
   "outputs": [],
   "source": [
    "# Reason (nominal)\n",
    "le.fit(student_data[:,10])\n",
    "student_data[:,10] = le.transform(student_data[:,10])"
   ]
  },
  {
   "cell_type": "code",
   "execution_count": 28,
   "metadata": {},
   "outputs": [],
   "source": [
    "# Guardian (nominal)\n",
    "le.fit(student_data[:,11])\n",
    "student_data[:,11] = le.transform(student_data[:,11])"
   ]
  },
  {
   "cell_type": "code",
   "execution_count": 29,
   "metadata": {},
   "outputs": [],
   "source": [
    "# schoolsup (binomial)\n",
    "le.fit(student_data[:,15])\n",
    "student_data[:,15] = le.transform(student_data[:,15])"
   ]
  },
  {
   "cell_type": "code",
   "execution_count": 30,
   "metadata": {},
   "outputs": [],
   "source": [
    "# famsup (binomial)\n",
    "le.fit(student_data[:,16])\n",
    "student_data[:,16] = le.transform(student_data[:,16])"
   ]
  },
  {
   "cell_type": "code",
   "execution_count": 31,
   "metadata": {},
   "outputs": [],
   "source": [
    "# paid (binomial)\n",
    "le.fit(student_data[:,17])\n",
    "student_data[:,17] = le.transform(student_data[:,17])"
   ]
  },
  {
   "cell_type": "code",
   "execution_count": 32,
   "metadata": {},
   "outputs": [],
   "source": [
    "# activities (binomial)\n",
    "le.fit(student_data[:,18])\n",
    "student_data[:,18] = le.transform(student_data[:,18])"
   ]
  },
  {
   "cell_type": "code",
   "execution_count": 33,
   "metadata": {},
   "outputs": [],
   "source": [
    "# nursery (binomial)\n",
    "le.fit(student_data[:,19])\n",
    "student_data[:,19] = le.transform(student_data[:,19])"
   ]
  },
  {
   "cell_type": "code",
   "execution_count": 34,
   "metadata": {},
   "outputs": [],
   "source": [
    "# higher (binomial)\n",
    "le.fit(student_data[:,20])\n",
    "student_data[:,20] = le.transform(student_data[:,20])"
   ]
  },
  {
   "cell_type": "code",
   "execution_count": 35,
   "metadata": {},
   "outputs": [],
   "source": [
    "# internet (binomial)\n",
    "le.fit(student_data[:,21])\n",
    "student_data[:,21] = le.transform(student_data[:,21])"
   ]
  },
  {
   "cell_type": "code",
   "execution_count": 36,
   "metadata": {},
   "outputs": [],
   "source": [
    "# romantic (binomial)\n",
    "le.fit(student_data[:,22])\n",
    "student_data[:,22] = le.transform(student_data[:,22])"
   ]
  },
  {
   "cell_type": "code",
   "execution_count": 37,
   "metadata": {},
   "outputs": [
    {
     "data": {
      "text/plain": [
       "array([[0, 0, 15, ..., 12, 12, 0],\n",
       "       [1, 1, 19, ..., 5, 8, 0],\n",
       "       [1, 1, 18, ..., 9, 10, 0],\n",
       "       ...,\n",
       "       [0, 0, 15, ..., 13, 12, 0],\n",
       "       [0, 1, 16, ..., 11, 10, 0],\n",
       "       [1, 0, 18, ..., 13, 12, 1]], dtype=object)"
      ]
     },
     "execution_count": 37,
     "metadata": {},
     "output_type": "execute_result"
    }
   ],
   "source": [
    "student_data"
   ]
  },
  {
   "cell_type": "markdown",
   "metadata": {},
   "source": [
    "# Encoding 0's to -1 for binomial data."
   ]
  },
  {
   "cell_type": "markdown",
   "metadata": {},
   "source": [
    "### Surely there's a one line method to do this... right, Keras?"
   ]
  },
  {
   "cell_type": "code",
   "execution_count": 38,
   "metadata": {},
   "outputs": [],
   "source": [
    "school = student_data[:,0]\n",
    "school = np.where(school==0, -1, school)\n",
    "student_data[:,0] = school"
   ]
  },
  {
   "cell_type": "code",
   "execution_count": 39,
   "metadata": {},
   "outputs": [],
   "source": [
    "sex = student_data[:,1]\n",
    "sex = np.where(sex==0, -1, sex)\n",
    "student_data[:,1] = sex"
   ]
  },
  {
   "cell_type": "code",
   "execution_count": 40,
   "metadata": {},
   "outputs": [],
   "source": [
    "address = student_data[:,3]\n",
    "address = np.where(address==0, -1, address)\n",
    "student_data[:,3] = address"
   ]
  },
  {
   "cell_type": "code",
   "execution_count": 41,
   "metadata": {},
   "outputs": [],
   "source": [
    "famsize = student_data[:,4]\n",
    "famsize = np.where(famsize==0, -1, famsize)\n",
    "student_data[:,4] = famsize"
   ]
  },
  {
   "cell_type": "code",
   "execution_count": 42,
   "metadata": {},
   "outputs": [],
   "source": [
    "Pstatus = student_data[:,5]\n",
    "Pstatus = np.where(Pstatus==0, -1, Pstatus)\n",
    "student_data[:,5] = Pstatus"
   ]
  },
  {
   "cell_type": "code",
   "execution_count": 43,
   "metadata": {},
   "outputs": [],
   "source": [
    "schoolsup = student_data[:,15]\n",
    "schoolsup = np.where(schoolsup==0, -1, schoolsup)\n",
    "student_data[:,15] = schoolsup"
   ]
  },
  {
   "cell_type": "code",
   "execution_count": 44,
   "metadata": {},
   "outputs": [],
   "source": [
    "famsup = student_data[:,16]\n",
    "famsup = np.where(famsup==0, -1, famsup)\n",
    "student_data[:,16] = famsup"
   ]
  },
  {
   "cell_type": "code",
   "execution_count": 45,
   "metadata": {},
   "outputs": [],
   "source": [
    "paid = student_data[:,17]\n",
    "paid = np.where(paid==0, -1, paid)\n",
    "student_data[:,17] = paid"
   ]
  },
  {
   "cell_type": "code",
   "execution_count": 46,
   "metadata": {},
   "outputs": [],
   "source": [
    "activities = student_data[:,18]\n",
    "activities = np.where(activities==0, -1, activities)\n",
    "student_data[:,18] = activities"
   ]
  },
  {
   "cell_type": "code",
   "execution_count": 47,
   "metadata": {},
   "outputs": [],
   "source": [
    "nursery = student_data[:,19]\n",
    "nursery = np.where(nursery==0, -1, nursery)\n",
    "student_data[:,19] = nursery"
   ]
  },
  {
   "cell_type": "code",
   "execution_count": 48,
   "metadata": {},
   "outputs": [],
   "source": [
    "higher = student_data[:,20]\n",
    "higher = np.where(higher==0, -1, higher)\n",
    "student_data[:,20] = higher"
   ]
  },
  {
   "cell_type": "code",
   "execution_count": 49,
   "metadata": {},
   "outputs": [],
   "source": [
    "internet = student_data[:,21]\n",
    "internet = np.where(internet==0, -1, internet)\n",
    "student_data[:,21] = internet"
   ]
  },
  {
   "cell_type": "code",
   "execution_count": 50,
   "metadata": {},
   "outputs": [],
   "source": [
    "romantic = student_data[:,22]\n",
    "romantic = np.where(romantic==0, -1, romantic)\n",
    "student_data[:,22] = romantic"
   ]
  },
  {
   "cell_type": "markdown",
   "metadata": {},
   "source": [
    "# Standardizing the nominal and numerical data."
   ]
  },
  {
   "cell_type": "code",
   "execution_count": 51,
   "metadata": {},
   "outputs": [],
   "source": [
    "scaler = preprocessing.StandardScaler()"
   ]
  },
  {
   "cell_type": "markdown",
   "metadata": {},
   "source": [
    "### I don't think this warning is THAT concerning"
   ]
  },
  {
   "cell_type": "code",
   "execution_count": 52,
   "metadata": {},
   "outputs": [
    {
     "name": "stderr",
     "output_type": "stream",
     "text": [
      "/nfshome/apps/python-3.6.7/lib/python3.6/site-packages/sklearn/utils/validation.py:590: DataConversionWarning: Data with input dtype object was converted to float64 by StandardScaler.\n",
      "  warnings.warn(msg, DataConversionWarning)\n",
      "/nfshome/apps/python-3.6.7/lib/python3.6/site-packages/sklearn/utils/validation.py:590: DataConversionWarning: Data with input dtype object was converted to float64 by StandardScaler.\n",
      "  warnings.warn(msg, DataConversionWarning)\n"
     ]
    }
   ],
   "source": [
    "temp = student_data[:,[2,6,7,8,9,10,11,12,13,14,23,24,25,26,27,28,29,30,31]]\n",
    "Standardized = scaler.fit_transform(temp)"
   ]
  },
  {
   "cell_type": "markdown",
   "metadata": {},
   "source": [
    "### Not sure about the -0.0 for the mean..."
   ]
  },
  {
   "cell_type": "code",
   "execution_count": 53,
   "metadata": {},
   "outputs": [
    {
     "name": "stdout",
     "output_type": "stream",
     "text": [
      "Mean: -0.0\n",
      "Standard deviation: 1.0\n"
     ]
    }
   ],
   "source": [
    "print('Mean:', round(Standardized.mean()))\n",
    "print('Standard deviation:', Standardized.std())"
   ]
  },
  {
   "cell_type": "code",
   "execution_count": 54,
   "metadata": {},
   "outputs": [],
   "source": [
    "student_data[:,[2,6,7,8,9,10,11,12,13,14,23,24,25,26,27,28,29,30,31]] = Standardized"
   ]
  },
  {
   "cell_type": "code",
   "execution_count": 55,
   "metadata": {},
   "outputs": [],
   "source": [
    "x = student_data[:,0:32]"
   ]
  },
  {
   "cell_type": "code",
   "execution_count": 56,
   "metadata": {},
   "outputs": [
    {
     "data": {
      "text/plain": [
       "array([-1, -1, -1.4329802763043944, 1, -1, 1, -1.3360393847765342,\n",
       "       -1.1888322936014033, 0.04694063202738386, 0.8982601164812474,\n",
       "       -0.9339740507872134, -1.5949259932605189, -0.7600319244561619,\n",
       "       0.08365294968062233, -0.3743051181921297, -1, 1, -1, -1, 1, 1, 1,\n",
       "       -1, 0.07260614867809903, 0.7804782639289712, -1.0085456232078611,\n",
       "       -0.5435553304269218, -0.2185083370694357, 1.0129025496993858,\n",
       "       -0.7891594563761747, 0.2190637219551519, 0.14765857072539595],\n",
       "      dtype=object)"
      ]
     },
     "execution_count": 56,
     "metadata": {},
     "output_type": "execute_result"
    }
   ],
   "source": [
    "x[0,0:]"
   ]
  },
  {
   "cell_type": "code",
   "execution_count": 57,
   "metadata": {},
   "outputs": [],
   "source": [
    "results = student_data[:,32] # output vector"
   ]
  },
  {
   "cell_type": "markdown",
   "metadata": {},
   "source": [
    "### Convert results to one-hot encoding\n",
    "#### the actual output vector doesn't include at least one example of each possible grade so I made a vector of all possibilities for to_categorical"
   ]
  },
  {
   "cell_type": "code",
   "execution_count": 58,
   "metadata": {},
   "outputs": [],
   "source": [
    "possible_results = [0,1,2,3,4,5,6,7,8,9,10,11,12,13,14,15,16,17,18,19]\n",
    "possible_results_2 = [0,1,2,3,4]"
   ]
  },
  {
   "cell_type": "code",
   "execution_count": 59,
   "metadata": {},
   "outputs": [],
   "source": [
    "#y = keras.utils.to_categorical(results, len(possible_results))\n",
    "y = keras.utils.to_categorical(results,len(possible_results_2))"
   ]
  },
  {
   "cell_type": "markdown",
   "metadata": {},
   "source": [
    "# Data is now preprocessed"
   ]
  },
  {
   "cell_type": "markdown",
   "metadata": {},
   "source": [
    "### Note: columns 31 and 32 are not used. I do not believe they are useful for our net."
   ]
  },
  {
   "cell_type": "code",
   "execution_count": 387,
   "metadata": {},
   "outputs": [],
   "source": [
    "model = keras.Sequential()"
   ]
  },
  {
   "cell_type": "code",
   "execution_count": 388,
   "metadata": {},
   "outputs": [],
   "source": [
    "input_size = x.shape[1]\n",
    "output_size = y.shape[1]"
   ]
  },
  {
   "cell_type": "code",
   "execution_count": 389,
   "metadata": {},
   "outputs": [],
   "source": [
    "# create the hidden layer\n",
    "model.add(keras.layers.Dense(800,input_dim=input_size,activation='relu'))"
   ]
  },
  {
   "cell_type": "code",
   "execution_count": 390,
   "metadata": {},
   "outputs": [],
   "source": [
    "model.add(keras.layers.Dense(400,activation='relu'))"
   ]
  },
  {
   "cell_type": "code",
   "execution_count": 391,
   "metadata": {},
   "outputs": [],
   "source": [
    "# output layer\n",
    "model.add(keras.layers.Dense(output_size,activation='softmax'))"
   ]
  },
  {
   "cell_type": "code",
   "execution_count": 392,
   "metadata": {},
   "outputs": [],
   "source": [
    "# compile\n",
    "model.compile(loss='categorical_crossentropy',optimizer='adamax', metrics=['accuracy'])"
   ]
  },
  {
   "cell_type": "code",
   "execution_count": 393,
   "metadata": {},
   "outputs": [
    {
     "name": "stdout",
     "output_type": "stream",
     "text": [
      "_________________________________________________________________\n",
      "Layer (type)                 Output Shape              Param #   \n",
      "=================================================================\n",
      "dense_94 (Dense)             (None, 800)               26400     \n",
      "_________________________________________________________________\n",
      "dense_95 (Dense)             (None, 400)               320400    \n",
      "_________________________________________________________________\n",
      "dense_96 (Dense)             (None, 5)                 2005      \n",
      "=================================================================\n",
      "Total params: 348,805\n",
      "Trainable params: 348,805\n",
      "Non-trainable params: 0\n",
      "_________________________________________________________________\n"
     ]
    }
   ],
   "source": [
    "model.summary()"
   ]
  },
  {
   "cell_type": "markdown",
   "metadata": {},
   "source": [
    "# Model Training\n",
    "## This is some results from training the model\n",
    "## Loss seems to be going down slowly\n",
    "## Interestingly val_loss seems to be increasing \n",
    "## I have ploted the loss below\n",
    "## I could not plot accuracy which is weird and I will have to look into what is causing that\n",
    "# Austin"
   ]
  },
  {
   "cell_type": "code",
   "execution_count": 394,
   "metadata": {},
   "outputs": [],
   "source": [
    "history = model.fit(x,y,batch_size = 32, epochs = 40, verbose = 0, validation_split = 0.2)"
   ]
  },
  {
   "cell_type": "code",
   "execution_count": 395,
   "metadata": {},
   "outputs": [
    {
     "name": "stdout",
     "output_type": "stream",
     "text": [
      "Test loss: 0.1575381685341084\n",
      "Test accuracy: 0.9645608629577883\n"
     ]
    }
   ],
   "source": [
    "score = model.evaluate(x,y, verbose=0)\n",
    "print('Test loss:', score[0])\n",
    "print('Test accuracy:', score[1])"
   ]
  },
  {
   "cell_type": "code",
   "execution_count": null,
   "metadata": {},
   "outputs": [],
   "source": []
  },
  {
   "cell_type": "code",
   "execution_count": 396,
   "metadata": {},
   "outputs": [
    {
     "data": {
      "image/png": "[encoded data removed]",
      "text/plain": [
       "<Figure size 432x288 with 2 Axes>"
      ]
     },
     "metadata": {
      "needs_background": "light"
     },
     "output_type": "display_data"
    }
   ],
   "source": [
    "plt.figure(1)\n",
    "\n",
    "# summarize history for accuracy\n",
    "\n",
    "plt.subplot(211)\n",
    "plt.plot(history.history['acc'])\n",
    "plt.plot(history.history['val_acc'])\n",
    "plt.title('model accuracy')\n",
    "plt.ylabel('accuracy')\n",
    "plt.xlabel('epoch')\n",
    "plt.legend(['train','test'], loc ='upper left')\n",
    "\n",
    "# summarize history for loss\n",
    "\n",
    "plt.subplot(212)\n",
    "plt.plot(history.history['loss'])\n",
    "plt.plot(history.history['val_loss'])\n",
    "plt.title('model loss')\n",
    "plt.ylabel('loss')\n",
    "plt.xlabel('epoch')\n",
    "plt.legend(['train','test'], loc ='upper left')\n",
    "\n",
    "plt.tight_layout()\n",
    "plt.show()"
   ]
  },
  {
   "cell_type": "code",
   "execution_count": 315,
   "metadata": {},
   "outputs": [
    {
     "name": "stdout",
     "output_type": "stream",
     "text": [
      "Test loss: 0.8468774051071132\n",
      "Test accuracy: 0.7642526964560863\n"
     ]
    }
   ],
   "source": [
    "print('Test loss:', score[0])\n",
    "print('Test accuracy:', score[1])"
   ]
  },
  {
   "cell_type": "code",
   "execution_count": 72,
   "metadata": {},
   "outputs": [],
   "source": [
    "## PCAs of Data"
   ]
  },
  {
   "cell_type": "code",
   "execution_count": 73,
   "metadata": {},
   "outputs": [],
   "source": [
    "#def func(X):\n",
    " #   return X\n",
    "#xFunc = np.apply_along_axis(func,0,x)\n",
    "\n",
    "\n",
    "#U,S,V = np.linalg.svd(xFunc,full_matrices=True)\n",
    "\n",
    "# Plot the percent of variance accounted for by each feature\n",
    "#plt.plot(100.0*S/np.sum(S))\n",
    "#plt.ylabel(\"Percent Variance\")\n",
    "#plt.xlabel(\"Singular Value\")\n",
    "#plt.show()"
   ]
  },
  {
   "cell_type": "code",
   "execution_count": 74,
   "metadata": {},
   "outputs": [],
   "source": [
    "pca=PCA()\n",
    "pca.fit(x)\n",
    "pca_data = pca.transform(x)"
   ]
  },
  {
   "cell_type": "code",
   "execution_count": 75,
   "metadata": {},
   "outputs": [
    {
     "data": {
      "image/png": "[encoded data removed]",
      "text/plain": [
       "<Figure size 432x288 with 1 Axes>"
      ]
     },
     "metadata": {
      "needs_background": "light"
     },
     "output_type": "display_data"
    }
   ],
   "source": [
    "per_var = np.round(pca.explained_variance_ratio_* 100, decimals = 1)\n",
    "labels = ['PC' + str(i) for i in range (1, len(per_var)+1)]\n",
    "\n",
    "plt.bar(x=range(1,len(per_var)+1), height=per_var, tick_label=labels)\n",
    "plt.ylabel(\"% var\")\n",
    "plt.xlabel(\"PC\")\n",
    "plt.title(\"Scree Plot\")\n",
    "plt.show()"
   ]
  },
  {
   "cell_type": "code",
   "execution_count": null,
   "metadata": {},
   "outputs": [],
   "source": []
  }
 ],
 "metadata": {
  "kernelspec": {
   "display_name": "Python 3",
   "language": "python",
   "name": "python3"
  },
  "language_info": {
   "codemirror_mode": {
    "name": "ipython",
    "version": 3
   },
   "file_extension": ".py",
   "mimetype": "text/x-python",
   "name": "python",
   "nbconvert_exporter": "python",
   "pygments_lexer": "ipython3",
   "version": "3.6.7"
  }
 },
 "nbformat": 4,
 "nbformat_minor": 2
}
