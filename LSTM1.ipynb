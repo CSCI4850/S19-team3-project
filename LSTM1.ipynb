{
 "cells": [
  {
   "cell_type": "code",
   "execution_count": 61,
   "metadata": {},
   "outputs": [],
   "source": [
    "# For reading our data set\n",
    "import pandas\n",
    "# For lots of great things.\n",
    "import numpy as np\n",
    "# To make our plots.\n",
    "import matplotlib.pyplot as plt\n",
    "%matplotlib inline\n",
    "# Because sympy and LaTeX make\n",
    "# everything look wonderful!\n",
    "from sympy import *\n",
    "init_printing(use_latex=True)\n",
    "from IPython.display import display\n",
    "# We will use this to check our implementation...\n",
    "from sklearn.decomposition import PCA\n",
    "# For building our net\n",
    "import keras\n",
    "# Need this for LabelEncoder\n",
    "from sklearn import preprocessing"
   ]
  },
  {
   "cell_type": "markdown",
   "metadata": {},
   "source": [
    "## Read in data"
   ]
  },
  {
   "cell_type": "code",
   "execution_count": 62,
   "metadata": {},
   "outputs": [
    {
     "data": {
      "text/plain": [
       "array([['GP', 'F', 18, ..., 0, 11, 11],\n",
       "       ['GP', 'F', 17, ..., 9, 11, 11],\n",
       "       ['GP', 'F', 15, ..., 12, 13, 12],\n",
       "       ...,\n",
       "       ['MS', 'F', 18, ..., 11, 12, 9],\n",
       "       ['MS', 'M', 17, ..., 10, 10, 10],\n",
       "       ['MS', 'M', 18, ..., 10, 11, 11]], dtype=object)"
      ]
     },
     "execution_count": 62,
     "metadata": {},
     "output_type": "execute_result"
    }
   ],
   "source": [
    "student_data = np.array(pandas.read_table(\"./student-por.csv\",\n",
    "delimiter=\";\", header=0))\n",
    "\n",
    "student_data"
   ]
  },
  {
   "cell_type": "markdown",
   "metadata": {},
   "source": [
    "# Data Cleanup"
   ]
  },
  {
   "cell_type": "markdown",
   "metadata": {},
   "source": [
    "## Shuffle data"
   ]
  },
  {
   "cell_type": "code",
   "execution_count": 63,
   "metadata": {},
   "outputs": [
    {
     "data": {
      "text/plain": [
       "array([['GP', 'F', 18, ..., 17, 17, 18],\n",
       "       ['MS', 'M', 16, ..., 10, 11, 11],\n",
       "       ['GP', 'M', 16, ..., 15, 13, 13],\n",
       "       ...,\n",
       "       ['GP', 'F', 17, ..., 13, 13, 13],\n",
       "       ['GP', 'F', 16, ..., 12, 13, 13],\n",
       "       ['GP', 'M', 16, ..., 12, 11, 12]], dtype=object)"
      ]
     },
     "execution_count": 63,
     "metadata": {},
     "output_type": "execute_result"
    }
   ],
   "source": [
    "np.random.shuffle(student_data)\n",
    "\n",
    "student_data"
   ]
  },
  {
   "cell_type": "markdown",
   "metadata": {},
   "source": [
    "## Numerically classify scores"
   ]
  },
  {
   "cell_type": "code",
   "execution_count": 64,
   "metadata": {},
   "outputs": [],
   "source": [
    "scores = student_data[:,32]"
   ]
  },
  {
   "cell_type": "code",
   "execution_count": 65,
   "metadata": {},
   "outputs": [],
   "source": [
    "for i in range(len(scores)):\n",
    "    if(scores[i] > 18):\n",
    "        scores[i] = 4\n",
    "    elif(scores[i] > 16):\n",
    "        scores[i] = 3\n",
    "    elif(scores[i] > 14):\n",
    "        scores[i] = 2\n",
    "    elif(scores[i] > 12):\n",
    "        scores[i] = 1\n",
    "    else:\n",
    "        scores[i] = 0"
   ]
  },
  {
   "cell_type": "code",
   "execution_count": 66,
   "metadata": {},
   "outputs": [
    {
     "data": {
      "text/plain": [
       "array([['GP', 'F', 18, ..., 17, 17, 3],\n",
       "       ['MS', 'M', 16, ..., 10, 11, 0],\n",
       "       ['GP', 'M', 16, ..., 15, 13, 1],\n",
       "       ...,\n",
       "       ['GP', 'F', 17, ..., 13, 13, 1],\n",
       "       ['GP', 'F', 16, ..., 12, 13, 1],\n",
       "       ['GP', 'M', 16, ..., 12, 11, 0]], dtype=object)"
      ]
     },
     "execution_count": 66,
     "metadata": {},
     "output_type": "execute_result"
    }
   ],
   "source": [
    "for i in range(len(scores)):\n",
    "    student_data[i,32] = scores[i]\n",
    "    \n",
    "student_data"
   ]
  },
  {
   "cell_type": "markdown",
   "metadata": {},
   "source": [
    "## Encoding non-numeric data to integers"
   ]
  },
  {
   "cell_type": "code",
   "execution_count": 67,
   "metadata": {},
   "outputs": [
    {
     "data": {
      "text/plain": [
       "array(['GP', 'F', 18, 'R', 'LE3', 'T', 1, 1, 'at_home', 'other',\n",
       "       'reputation', 'mother', 2, 4, 0, 'no', 'yes', 'no', 'yes', 'yes',\n",
       "       'yes', 'no', 'no', 5, 2, 2, 1, 1, 3, 2, 17, 17, 3], dtype=object)"
      ]
     },
     "execution_count": 67,
     "metadata": {},
     "output_type": "execute_result"
    }
   ],
   "source": [
    "# one student sample\n",
    "student_data[0,:]"
   ]
  },
  {
   "cell_type": "code",
   "execution_count": 68,
   "metadata": {},
   "outputs": [],
   "source": [
    "le = preprocessing.LabelEncoder()\n",
    "\n",
    "# columns that hold non-numeric data\n",
    "indices = np.array([0,1,3,4,5,8,9,10,11,15,16,17,18,19,20,21,22])\n",
    "\n",
    "# transform the non-numeric data in these columns to integers\n",
    "for i in range(len(indices)):\n",
    "    column = indices[i]\n",
    "    le.fit(student_data[:,column])\n",
    "    student_data[:,column] = le.transform(student_data[:,column])"
   ]
  },
  {
   "cell_type": "code",
   "execution_count": 69,
   "metadata": {},
   "outputs": [
    {
     "data": {
      "text/plain": [
       "array([0, 0, 18, 0, 1, 1, 1, 1, 0, 2, 3, 1, 2, 4, 0, 0, 1, 0, 1, 1, 1, 0,\n",
       "       0, 5, 2, 2, 1, 1, 3, 2, 17, 17, 3], dtype=object)"
      ]
     },
     "execution_count": 69,
     "metadata": {},
     "output_type": "execute_result"
    }
   ],
   "source": [
    "student_data[0,:]"
   ]
  },
  {
   "cell_type": "markdown",
   "metadata": {},
   "source": [
    "## Encoding 0's to -1 for binomial data."
   ]
  },
  {
   "cell_type": "code",
   "execution_count": 70,
   "metadata": {},
   "outputs": [],
   "source": [
    "# columns that hold binomial data\n",
    "indices = np.array([0,1,3,4,5,15,16,17,18,19,20,21,22])\n",
    "\n",
    "# change 0's to -1's\n",
    "for i in range(len(indices)):\n",
    "    j = indices[i]\n",
    "    feature = student_data[:,j]\n",
    "    feature = np.where(feature==0, -1, feature)\n",
    "    student_data[:,j] = feature"
   ]
  },
  {
   "cell_type": "code",
   "execution_count": 71,
   "metadata": {},
   "outputs": [
    {
     "data": {
      "text/plain": [
       "array([-1, -1, 18, -1, 1, 1, 1, 1, 0, 2, 3, 1, 2, 4, 0, -1, 1, -1, 1, 1,\n",
       "       1, -1, -1, 5, 2, 2, 1, 1, 3, 2, 17, 17, 3], dtype=object)"
      ]
     },
     "execution_count": 71,
     "metadata": {},
     "output_type": "execute_result"
    }
   ],
   "source": [
    "student_data[0,:]"
   ]
  },
  {
   "cell_type": "markdown",
   "metadata": {},
   "source": [
    "## Standardizing the nominal and numerical data."
   ]
  },
  {
   "cell_type": "code",
   "execution_count": 72,
   "metadata": {},
   "outputs": [],
   "source": [
    "scaler = preprocessing.StandardScaler()"
   ]
  },
  {
   "cell_type": "code",
   "execution_count": 73,
   "metadata": {},
   "outputs": [
    {
     "name": "stderr",
     "output_type": "stream",
     "text": [
      "/nfshome/apps/python-3.6.7/lib/python3.6/site-packages/sklearn/utils/validation.py:590: DataConversionWarning: Data with input dtype object was converted to float64 by StandardScaler.\n",
      "  warnings.warn(msg, DataConversionWarning)\n",
      "/nfshome/apps/python-3.6.7/lib/python3.6/site-packages/sklearn/utils/validation.py:590: DataConversionWarning: Data with input dtype object was converted to float64 by StandardScaler.\n",
      "  warnings.warn(msg, DataConversionWarning)\n"
     ]
    }
   ],
   "source": [
    "temp = student_data[:,[2,6,7,8,9,10,11,12,13,14,23,24,25,26,27,28,29,30,31]]\n",
    "Standardized = scaler.fit_transform(temp)"
   ]
  },
  {
   "cell_type": "code",
   "execution_count": 74,
   "metadata": {},
   "outputs": [
    {
     "name": "stdout",
     "output_type": "stream",
     "text": [
      "Mean: -0.0\n",
      "Standard deviation: 1.0\n"
     ]
    }
   ],
   "source": [
    "print('Mean:', round(Standardized.mean()))\n",
    "print('Standard deviation:', Standardized.std())"
   ]
  },
  {
   "cell_type": "code",
   "execution_count": 75,
   "metadata": {},
   "outputs": [],
   "source": [
    "student_data[:,[2,6,7,8,9,10,11,12,13,14,23,24,25,26,27,28,29,30,31]] = Standardized"
   ]
  },
  {
   "cell_type": "code",
   "execution_count": 76,
   "metadata": {},
   "outputs": [
    {
     "data": {
      "text/plain": [
       "array([-1, -1, 1.0316951635937113, -1, 1, 1, -1.3360393847765342,\n",
       "       -1.1888322936014033, -1.556452535644832, -0.2607275884816344,\n",
       "       1.5846512634547596, 0.3326475069742608, 0.57671799145725,\n",
       "       2.4965758093572377, -0.3743051181921297, -1, 1, -1, 1, 1, 1, -1,\n",
       "       -1, 1.1197481596133516, -1.1237713349052476, -1.0085456232078611,\n",
       "       -0.5435553304269218, -0.9976946599159401, -0.3710421971530383,\n",
       "       -0.3578630461124801, 2.041786228992247, 1.8650494739652166, 3],\n",
       "      dtype=object)"
      ]
     },
     "execution_count": 76,
     "metadata": {},
     "output_type": "execute_result"
    }
   ],
   "source": [
    "student_data[0,:]"
   ]
  },
  {
   "cell_type": "markdown",
   "metadata": {},
   "source": [
    "## Convert results to one-hot encoding"
   ]
  },
  {
   "cell_type": "code",
   "execution_count": 77,
   "metadata": {},
   "outputs": [],
   "source": [
    "# final grades\n",
    "results = student_data[:,32]\n",
    "\n",
    "# all unique values for final grades (0-4)\n",
    "possible_results = Matrix(np.unique(student_data[:,32])).T"
   ]
  },
  {
   "cell_type": "code",
   "execution_count": 78,
   "metadata": {},
   "outputs": [],
   "source": [
    "# one-hot encode final grades which will be used as our output\n",
    "y = keras.utils.to_categorical(results,len(possible_results))"
   ]
  },
  {
   "cell_type": "code",
   "execution_count": 79,
   "metadata": {},
   "outputs": [
    {
     "data": {
      "text/plain": [
       "array([[0., 0., 0., 1., 0.],\n",
       "       [1., 0., 0., 0., 0.],\n",
       "       [0., 1., 0., 0., 0.],\n",
       "       [0., 0., 1., 0., 0.],\n",
       "       [1., 0., 0., 0., 0.]], dtype=float32)"
      ]
     },
     "execution_count": 79,
     "metadata": {},
     "output_type": "execute_result"
    }
   ],
   "source": [
    "y[0:5]"
   ]
  },
  {
   "cell_type": "markdown",
   "metadata": {},
   "source": [
    "# Model Building"
   ]
  },
  {
   "cell_type": "code",
   "execution_count": 80,
   "metadata": {},
   "outputs": [],
   "source": [
    "# our input, all features except final grades\n",
    "x = student_data[:,0:32]"
   ]
  },
  {
   "cell_type": "code",
   "execution_count": 81,
   "metadata": {},
   "outputs": [],
   "source": [
    "# feed-forward, sequential model\n",
    "model = keras.Sequential()\n",
    "\n",
    "# specify input and output size\n",
    "input_size = x.shape[1]\n",
    "output_size = y.shape[1]"
   ]
  },
  {
   "cell_type": "code",
   "execution_count": 82,
   "metadata": {},
   "outputs": [],
   "source": [
    "# create the hidden layer (input?)\n",
    "model.add(keras.layers.Dense(800,input_dim=input_size,activation='relu'))"
   ]
  },
  {
   "cell_type": "code",
   "execution_count": 83,
   "metadata": {},
   "outputs": [],
   "source": [
    "model.add(keras.layers.Dense(400,activation='relu'))"
   ]
  },
  {
   "cell_type": "code",
   "execution_count": 84,
   "metadata": {},
   "outputs": [],
   "source": [
    "# output layer\n",
    "model.add(keras.layers.Dense(output_size,activation='softmax'))"
   ]
  },
  {
   "cell_type": "code",
   "execution_count": 85,
   "metadata": {},
   "outputs": [],
   "source": [
    "# compile - why using adamax?\n",
    "model.compile(loss='categorical_crossentropy',\n",
    "              optimizer='adamax', \n",
    "              metrics=['accuracy'])"
   ]
  },
  {
   "cell_type": "code",
   "execution_count": 86,
   "metadata": {},
   "outputs": [
    {
     "name": "stdout",
     "output_type": "stream",
     "text": [
      "_________________________________________________________________\n",
      "Layer (type)                 Output Shape              Param #   \n",
      "=================================================================\n",
      "dense_7 (Dense)              (None, 800)               26400     \n",
      "_________________________________________________________________\n",
      "dense_8 (Dense)              (None, 400)               320400    \n",
      "_________________________________________________________________\n",
      "dense_9 (Dense)              (None, 5)                 2005      \n",
      "=================================================================\n",
      "Total params: 348,805\n",
      "Trainable params: 348,805\n",
      "Non-trainable params: 0\n",
      "_________________________________________________________________\n"
     ]
    }
   ],
   "source": [
    "model.summary()"
   ]
  },
  {
   "cell_type": "markdown",
   "metadata": {},
   "source": [
    "# Training the network"
   ]
  },
  {
   "cell_type": "code",
   "execution_count": 87,
   "metadata": {},
   "outputs": [],
   "source": [
    "# split data into training and testing data\n",
    "x_train = x[0:518,:]\n",
    "x_test = x[519:649,:]\n",
    "\n",
    "y_train = y[0:518,:]\n",
    "y_test = y[519:649,:]"
   ]
  },
  {
   "cell_type": "code",
   "execution_count": 88,
   "metadata": {},
   "outputs": [],
   "source": [
    "# train on training data!\n",
    "history = model.fit(x_train, y_train,\n",
    "                    batch_size = 32, \n",
    "                    epochs = 7, \n",
    "                    verbose = 0, \n",
    "                    validation_split = 0.2)"
   ]
  },
  {
   "cell_type": "code",
   "execution_count": 89,
   "metadata": {},
   "outputs": [
    {
     "name": "stdout",
     "output_type": "stream",
     "text": [
      "Test loss: 0.5240104313080127\n",
      "Test accuracy: 0.7692307692307693\n"
     ]
    }
   ],
   "source": [
    "# validate using data the network hasn't seen before (testing data)\n",
    "# check it's effectiveness\n",
    "score = model.evaluate(x_test,y_test, verbose=0)\n",
    "print('Test loss:', score[0])\n",
    "print('Test accuracy:', score[1])"
   ]
  },
  {
   "cell_type": "code",
   "execution_count": 90,
   "metadata": {},
   "outputs": [
    {
     "data": {
      "image/png": "[encoded data removed]",
      "text/plain": [
       "<Figure size 432x288 with 2 Axes>"
      ]
     },
     "metadata": {
      "needs_background": "light"
     },
     "output_type": "display_data"
    }
   ],
   "source": [
    "# plot the data\n",
    "\n",
    "plt.figure(1)\n",
    "\n",
    "# summarize history for accuracy\n",
    "\n",
    "plt.subplot(211)\n",
    "plt.plot(history.history['acc'])\n",
    "plt.plot(history.history['val_acc'])\n",
    "plt.title('model accuracy')\n",
    "plt.ylabel('accuracy')\n",
    "plt.xlabel('epoch')\n",
    "plt.legend(['train','test'], loc ='upper left')\n",
    "\n",
    "# summarize history for loss\n",
    "\n",
    "plt.subplot(212)\n",
    "plt.plot(history.history['loss'])\n",
    "plt.plot(history.history['val_loss'])\n",
    "plt.title('model loss')\n",
    "plt.ylabel('loss')\n",
    "plt.xlabel('epoch')\n",
    "plt.legend(['train','test'], loc ='upper left')\n",
    "\n",
    "plt.tight_layout()\n",
    "plt.show()"
   ]
  }
 ],
 "metadata": {
  "kernelspec": {
   "display_name": "Python 3",
   "language": "python",
   "name": "python3"
  },
  "language_info": {
   "codemirror_mode": {
    "name": "ipython",
    "version": 3
   },
   "file_extension": ".py",
   "mimetype": "text/x-python",
   "name": "python",
   "nbconvert_exporter": "python",
   "pygments_lexer": "ipython3",
   "version": "3.6.7"
  }
 },
 "nbformat": 4,
 "nbformat_minor": 2
}
