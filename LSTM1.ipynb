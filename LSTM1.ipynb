{
 "cells": [
  {
   "cell_type": "code",
   "execution_count": 117,
   "metadata": {},
   "outputs": [],
   "source": [
    "# For reading data sets from the web.\n",
    "import pandas\n",
    "# For lots of great things.\n",
    "import numpy as np\n",
    "# To make our plots.\n",
    "import matplotlib.pyplot as plt\n",
    "%matplotlib inline\n",
    "# Because sympy and LaTeX make\n",
    "# everything look wonderful!\n",
    "from sympy import *\n",
    "init_printing(use_latex=True)\n",
    "from IPython.display import display\n",
    "# We will use this to check our implementation...\n",
    "from sklearn.decomposition import PCA\n",
    "# We will grab another data set using Keras\n",
    "# after we finish up with Iris...\n",
    "import keras\n",
    "# Need this for LabelEncoder\n",
    "from sklearn import preprocessing"
   ]
  },
  {
   "cell_type": "code",
   "execution_count": 118,
   "metadata": {},
   "outputs": [],
   "source": [
    "student_data = np.array(pandas.read_table(\"./student-por.csv\",\n",
    "delimiter=\";\", header=0))\n",
    "\n"
   ]
  },
  {
   "cell_type": "code",
   "execution_count": 119,
   "metadata": {},
   "outputs": [
    {
     "data": {
      "text/plain": [
       "array([['GP', 'F', 16, ..., 15, 13, 14],\n",
       "       ['GP', 'M', 17, ..., 11, 11, 14],\n",
       "       ['GP', 'F', 16, ..., 10, 11, 12],\n",
       "       ...,\n",
       "       ['GP', 'M', 15, ..., 14, 13, 14],\n",
       "       ['GP', 'M', 17, ..., 12, 15, 15],\n",
       "       ['GP', 'F', 18, ..., 12, 13, 14]], dtype=object)"
      ]
     },
     "execution_count": 119,
     "metadata": {},
     "output_type": "execute_result"
    }
   ],
   "source": [
    "np.random.shuffle(student_data)\n",
    "student_data"
   ]
  },
  {
   "cell_type": "code",
   "execution_count": 120,
   "metadata": {},
   "outputs": [
    {
     "data": {
      "text/plain": [
       "array([14, 14, 12, 13, 10, 11, 12, 12, 14, 12, 14, 17, 12, 15, 13, 15, 18,\n",
       "       9, 12, 12, 15, 10, 12, 13, 18, 10, 11, 11, 14, 0, 11, 12, 18, 14,\n",
       "       10, 10, 9, 11, 11, 13, 10, 12, 16, 13, 17, 8, 8, 12, 16, 14, 9, 9,\n",
       "       9, 16, 10, 8, 11, 11, 10, 9, 0, 11, 16, 11, 15, 17, 15, 13, 9, 13,\n",
       "       14, 11, 10, 8, 10, 14, 11, 11, 12, 8, 10, 13, 11, 13, 15, 12, 8, 8,\n",
       "       13, 13, 15, 11, 13, 12, 11, 10, 12, 11, 15, 12, 9, 11, 10, 10, 13,\n",
       "       11, 8, 11, 13, 18, 12, 17, 17, 12, 8, 13, 12, 16, 12, 17, 8, 0, 17,\n",
       "       12, 13, 14, 11, 14, 16, 9, 13, 13, 11, 9, 12, 12, 17, 10, 7, 12,\n",
       "       10, 10, 16, 11, 12, 10, 11, 15, 15, 10, 10, 10, 16, 11, 17, 15, 15,\n",
       "       14, 12, 10, 10, 11, 15, 10, 14, 10, 7, 18, 14, 13, 12, 11, 11, 15,\n",
       "       13, 11, 14, 10, 11, 15, 18, 0, 18, 11, 0, 13, 9, 13, 10, 11, 10, 8,\n",
       "       9, 15, 10, 9, 5, 17, 11, 13, 18, 13, 14, 13, 10, 11, 15, 11, 13,\n",
       "       12, 13, 12, 9, 10, 10, 10, 10, 15, 17, 7, 9, 9, 13, 10, 10, 11, 13,\n",
       "       9, 10, 18, 10, 7, 16, 12, 12, 13, 11, 14, 10, 11, 11, 13, 11, 9,\n",
       "       14, 11, 8, 16, 10, 10, 10, 16, 10, 14, 12, 11, 13, 15, 16, 16, 8,\n",
       "       10, 14, 10, 6, 0, 11, 10, 14, 11, 12, 14, 12, 11, 16, 9, 11, 7, 10,\n",
       "       14, 11, 14, 11, 14, 13, 8, 8, 10, 11, 11, 11, 14, 14, 8, 11, 8, 13,\n",
       "       16, 13, 14, 13, 0, 12, 7, 12, 14, 9, 12, 12, 10, 13, 12, 14, 15, 9,\n",
       "       14, 13, 12, 14, 8, 8, 16, 0, 9, 10, 9, 10, 15, 10, 14, 13, 15, 11,\n",
       "       13, 17, 16, 17, 10, 15, 17, 12, 16, 14, 10, 15, 10, 16, 8, 13, 8,\n",
       "       9, 15, 10, 13, 10, 9, 14, 11, 10, 15, 12, 10, 13, 8, 17, 9, 14, 13,\n",
       "       13, 13, 10, 17, 13, 15, 11, 11, 10, 11, 10, 7, 18, 16, 14, 17, 12,\n",
       "       11, 12, 12, 14, 11, 10, 16, 11, 11, 15, 10, 12, 0, 10, 10, 8, 16,\n",
       "       11, 15, 10, 15, 16, 12, 10, 10, 11, 12, 13, 16, 12, 13, 16, 8, 11,\n",
       "       13, 17, 12, 11, 9, 9, 13, 10, 11, 13, 15, 14, 17, 8, 11, 13, 6, 17,\n",
       "       11, 18, 17, 8, 17, 13, 13, 11, 14, 8, 8, 11, 15, 10, 14, 12, 14, 8,\n",
       "       16, 11, 19, 16, 11, 14, 15, 14, 16, 11, 11, 9, 9, 14, 16, 11, 17,\n",
       "       13, 13, 7, 13, 16, 11, 12, 10, 10, 11, 11, 6, 12, 14, 13, 10, 12,\n",
       "       16, 9, 13, 14, 12, 11, 11, 11, 10, 12, 11, 12, 11, 10, 11, 8, 10,\n",
       "       8, 13, 15, 14, 8, 9, 12, 17, 13, 0, 11, 16, 11, 13, 15, 10, 14, 15,\n",
       "       15, 18, 14, 15, 11, 11, 11, 13, 18, 11, 10, 10, 12, 14, 11, 14, 12,\n",
       "       17, 0, 14, 10, 11, 10, 8, 13, 15, 16, 7, 14, 13, 12, 14, 10, 10,\n",
       "       10, 10, 8, 15, 15, 13, 15, 12, 12, 12, 16, 10, 11, 10, 0, 13, 12,\n",
       "       19, 13, 17, 15, 12, 15, 10, 11, 13, 10, 10, 16, 14, 11, 0, 9, 9,\n",
       "       13, 12, 11, 10, 13, 10, 15, 13, 11, 13, 13, 14, 17, 12, 7, 1, 13,\n",
       "       18, 12, 10, 11, 13, 14, 17, 0, 8, 14, 13, 15, 9, 11, 14, 12, 12,\n",
       "       16, 11, 10, 18, 10, 11, 13, 15, 12, 0, 14, 11, 11, 15, 13, 10, 17,\n",
       "       11, 13, 13, 14, 15, 14], dtype=object)"
      ]
     },
     "execution_count": 120,
     "metadata": {},
     "output_type": "execute_result"
    }
   ],
   "source": [
    "scores = student_data[:,32]\n",
    "scores\n"
   ]
  },
  {
   "cell_type": "code",
   "execution_count": 121,
   "metadata": {},
   "outputs": [
    {
     "data": {
      "text/plain": [
       "array(['GP', 'F', 16, 'U', 'GT3', 'A', 3, 4, 'services', 'other',\n",
       "       'course', 'father', 1, 1, 0, 'no', 'no', 'no', 'no', 'yes', 'yes',\n",
       "       'yes', 'no', 3, 2, 1, 1, 4, 5, 12, 15, 13, 14], dtype=object)"
      ]
     },
     "execution_count": 121,
     "metadata": {},
     "output_type": "execute_result"
    }
   ],
   "source": [
    "student_data[0,:]"
   ]
  },
  {
   "cell_type": "code",
   "execution_count": 122,
   "metadata": {},
   "outputs": [],
   "source": [
    "for i in range(len(scores)):\n",
    "    if(scores[i] > 18):\n",
    "        scores[i] = 4\n",
    "    elif(scores[i] > 16):\n",
    "        scores[i] = 3\n",
    "    elif(scores[i] > 14):\n",
    "        scores[i] = 2\n",
    "    elif(scores[i] > 12):\n",
    "        scores[i] = 1\n",
    "    else:\n",
    "        scores[i] = 0\n"
   ]
  },
  {
   "cell_type": "code",
   "execution_count": 123,
   "metadata": {},
   "outputs": [
    {
     "data": {
      "text/plain": [
       "array([['GP', 'F', 16, ..., 15, 13, 1],\n",
       "       ['GP', 'M', 17, ..., 11, 11, 1],\n",
       "       ['GP', 'F', 16, ..., 10, 11, 0],\n",
       "       ...,\n",
       "       ['GP', 'M', 15, ..., 14, 13, 1],\n",
       "       ['GP', 'M', 17, ..., 12, 15, 2],\n",
       "       ['GP', 'F', 18, ..., 12, 13, 1]], dtype=object)"
      ]
     },
     "execution_count": 123,
     "metadata": {},
     "output_type": "execute_result"
    }
   ],
   "source": [
    "for i in range(len(scores)):\n",
    "    student_data[i,32] = scores[i]\n",
    "    \n",
    "student_data"
   ]
  },
  {
   "cell_type": "code",
   "execution_count": 124,
   "metadata": {},
   "outputs": [
    {
     "data": {
      "image/png": "[encoded data removed]",
      "text/latex": [
       "$$\\left ( 649, \\quad 33\\right )$$"
      ],
      "text/plain": [
       "(649, 33)"
      ]
     },
     "execution_count": 124,
     "metadata": {},
     "output_type": "execute_result"
    }
   ],
   "source": [
    "student_data.shape"
   ]
  },
  {
   "cell_type": "code",
   "execution_count": 125,
   "metadata": {},
   "outputs": [],
   "source": [
    "le = preprocessing.LabelEncoder()"
   ]
  },
  {
   "cell_type": "markdown",
   "metadata": {},
   "source": [
    "# Encoding non-numeric data to integers"
   ]
  },
  {
   "cell_type": "code",
   "execution_count": 126,
   "metadata": {},
   "outputs": [],
   "source": [
    "# School (binomial)\n",
    "le.fit(student_data[:,0])\n",
    "student_data[:,0] = le.transform(student_data[:,0])"
   ]
  },
  {
   "cell_type": "code",
   "execution_count": 127,
   "metadata": {},
   "outputs": [],
   "source": [
    "# Sex (binomial)\n",
    "le.fit(student_data[:,1])\n",
    "student_data[:,1] = le.transform(student_data[:,1])"
   ]
  },
  {
   "cell_type": "code",
   "execution_count": 128,
   "metadata": {},
   "outputs": [],
   "source": [
    "# address (binomial)\n",
    "le.fit(student_data[:,3])\n",
    "student_data[:,3] = le.transform(student_data[:,3])"
   ]
  },
  {
   "cell_type": "code",
   "execution_count": 129,
   "metadata": {},
   "outputs": [],
   "source": [
    "# Famsize (binomial)\n",
    "le.fit(student_data[:,4])\n",
    "student_data[:,4] = le.transform(student_data[:,4])"
   ]
  },
  {
   "cell_type": "code",
   "execution_count": 130,
   "metadata": {},
   "outputs": [],
   "source": [
    "# Pstatus (binomial)\n",
    "le.fit(student_data[:,5])\n",
    "student_data[:,5] = le.transform(student_data[:,5])"
   ]
  },
  {
   "cell_type": "code",
   "execution_count": 131,
   "metadata": {},
   "outputs": [],
   "source": [
    "# Mjob (nominal)\n",
    "le.fit(student_data[:,8])\n",
    "student_data[:,8] = le.transform(student_data[:,8])"
   ]
  },
  {
   "cell_type": "code",
   "execution_count": 132,
   "metadata": {},
   "outputs": [],
   "source": [
    "# Fjob (nominal)\n",
    "le.fit(student_data[:,9])\n",
    "student_data[:,9] = le.transform(student_data[:,9])"
   ]
  },
  {
   "cell_type": "code",
   "execution_count": 133,
   "metadata": {},
   "outputs": [],
   "source": [
    "# Reason (nominal)\n",
    "le.fit(student_data[:,10])\n",
    "student_data[:,10] = le.transform(student_data[:,10])"
   ]
  },
  {
   "cell_type": "code",
   "execution_count": 134,
   "metadata": {},
   "outputs": [],
   "source": [
    "# Guardian (nominal)\n",
    "le.fit(student_data[:,11])\n",
    "student_data[:,11] = le.transform(student_data[:,11])"
   ]
  },
  {
   "cell_type": "code",
   "execution_count": 135,
   "metadata": {},
   "outputs": [],
   "source": [
    "# schoolsup (binomial)\n",
    "le.fit(student_data[:,15])\n",
    "student_data[:,15] = le.transform(student_data[:,15])"
   ]
  },
  {
   "cell_type": "code",
   "execution_count": 136,
   "metadata": {},
   "outputs": [],
   "source": [
    "# famsup (binomial)\n",
    "le.fit(student_data[:,16])\n",
    "student_data[:,16] = le.transform(student_data[:,16])"
   ]
  },
  {
   "cell_type": "code",
   "execution_count": 137,
   "metadata": {},
   "outputs": [],
   "source": [
    "# paid (binomial)\n",
    "le.fit(student_data[:,17])\n",
    "student_data[:,17] = le.transform(student_data[:,17])"
   ]
  },
  {
   "cell_type": "code",
   "execution_count": 138,
   "metadata": {},
   "outputs": [],
   "source": [
    "# activities (binomial)\n",
    "le.fit(student_data[:,18])\n",
    "student_data[:,18] = le.transform(student_data[:,18])"
   ]
  },
  {
   "cell_type": "code",
   "execution_count": 139,
   "metadata": {},
   "outputs": [],
   "source": [
    "# nursery (binomial)\n",
    "le.fit(student_data[:,19])\n",
    "student_data[:,19] = le.transform(student_data[:,19])"
   ]
  },
  {
   "cell_type": "code",
   "execution_count": 140,
   "metadata": {},
   "outputs": [],
   "source": [
    "# higher (binomial)\n",
    "le.fit(student_data[:,20])\n",
    "student_data[:,20] = le.transform(student_data[:,20])"
   ]
  },
  {
   "cell_type": "code",
   "execution_count": 141,
   "metadata": {},
   "outputs": [],
   "source": [
    "# internet (binomial)\n",
    "le.fit(student_data[:,21])\n",
    "student_data[:,21] = le.transform(student_data[:,21])"
   ]
  },
  {
   "cell_type": "code",
   "execution_count": 142,
   "metadata": {},
   "outputs": [],
   "source": [
    "# romantic (binomial)\n",
    "le.fit(student_data[:,22])\n",
    "student_data[:,22] = le.transform(student_data[:,22])"
   ]
  },
  {
   "cell_type": "code",
   "execution_count": 143,
   "metadata": {},
   "outputs": [
    {
     "data": {
      "text/plain": [
       "array([[0, 0, 16, ..., 15, 13, 1],\n",
       "       [0, 1, 17, ..., 11, 11, 1],\n",
       "       [0, 0, 16, ..., 10, 11, 0],\n",
       "       ...,\n",
       "       [0, 1, 15, ..., 14, 13, 1],\n",
       "       [0, 1, 17, ..., 12, 15, 2],\n",
       "       [0, 0, 18, ..., 12, 13, 1]], dtype=object)"
      ]
     },
     "execution_count": 143,
     "metadata": {},
     "output_type": "execute_result"
    }
   ],
   "source": [
    "student_data"
   ]
  },
  {
   "cell_type": "markdown",
   "metadata": {},
   "source": [
    "# Encoding 0's to -1 for binomial data."
   ]
  },
  {
   "cell_type": "markdown",
   "metadata": {},
   "source": [
    "### Surely there's a one line method to do this... right, Keras?"
   ]
  },
  {
   "cell_type": "code",
   "execution_count": 144,
   "metadata": {},
   "outputs": [],
   "source": [
    "school = student_data[:,0]\n",
    "school = np.where(school==0, -1, school)\n",
    "student_data[:,0] = school"
   ]
  },
  {
   "cell_type": "code",
   "execution_count": 145,
   "metadata": {},
   "outputs": [],
   "source": [
    "sex = student_data[:,1]\n",
    "sex = np.where(sex==0, -1, sex)\n",
    "student_data[:,1] = sex"
   ]
  },
  {
   "cell_type": "code",
   "execution_count": 146,
   "metadata": {},
   "outputs": [],
   "source": [
    "address = student_data[:,3]\n",
    "address = np.where(address==0, -1, address)\n",
    "student_data[:,3] = address"
   ]
  },
  {
   "cell_type": "code",
   "execution_count": 147,
   "metadata": {},
   "outputs": [],
   "source": [
    "famsize = student_data[:,4]\n",
    "famsize = np.where(famsize==0, -1, famsize)\n",
    "student_data[:,4] = famsize"
   ]
  },
  {
   "cell_type": "code",
   "execution_count": 148,
   "metadata": {},
   "outputs": [],
   "source": [
    "Pstatus = student_data[:,5]\n",
    "Pstatus = np.where(Pstatus==0, -1, Pstatus)\n",
    "student_data[:,5] = Pstatus"
   ]
  },
  {
   "cell_type": "code",
   "execution_count": 149,
   "metadata": {},
   "outputs": [],
   "source": [
    "schoolsup = student_data[:,15]\n",
    "schoolsup = np.where(schoolsup==0, -1, schoolsup)\n",
    "student_data[:,15] = schoolsup"
   ]
  },
  {
   "cell_type": "code",
   "execution_count": 150,
   "metadata": {},
   "outputs": [],
   "source": [
    "famsup = student_data[:,16]\n",
    "famsup = np.where(famsup==0, -1, famsup)\n",
    "student_data[:,16] = famsup"
   ]
  },
  {
   "cell_type": "code",
   "execution_count": 151,
   "metadata": {},
   "outputs": [],
   "source": [
    "paid = student_data[:,17]\n",
    "paid = np.where(paid==0, -1, paid)\n",
    "student_data[:,17] = paid"
   ]
  },
  {
   "cell_type": "code",
   "execution_count": 152,
   "metadata": {},
   "outputs": [],
   "source": [
    "activities = student_data[:,18]\n",
    "activities = np.where(activities==0, -1, activities)\n",
    "student_data[:,18] = activities"
   ]
  },
  {
   "cell_type": "code",
   "execution_count": 153,
   "metadata": {},
   "outputs": [],
   "source": [
    "nursery = student_data[:,19]\n",
    "nursery = np.where(nursery==0, -1, nursery)\n",
    "student_data[:,19] = nursery"
   ]
  },
  {
   "cell_type": "code",
   "execution_count": 154,
   "metadata": {},
   "outputs": [],
   "source": [
    "higher = student_data[:,20]\n",
    "higher = np.where(higher==0, -1, higher)\n",
    "student_data[:,20] = higher"
   ]
  },
  {
   "cell_type": "code",
   "execution_count": 155,
   "metadata": {},
   "outputs": [],
   "source": [
    "internet = student_data[:,21]\n",
    "internet = np.where(internet==0, -1, internet)\n",
    "student_data[:,21] = internet"
   ]
  },
  {
   "cell_type": "code",
   "execution_count": 156,
   "metadata": {},
   "outputs": [],
   "source": [
    "romantic = student_data[:,22]\n",
    "romantic = np.where(romantic==0, -1, romantic)\n",
    "student_data[:,22] = romantic"
   ]
  },
  {
   "cell_type": "markdown",
   "metadata": {},
   "source": [
    "# Standardizing the nominal and numerical data."
   ]
  },
  {
   "cell_type": "code",
   "execution_count": 157,
   "metadata": {},
   "outputs": [],
   "source": [
    "scaler = preprocessing.StandardScaler()"
   ]
  },
  {
   "cell_type": "markdown",
   "metadata": {},
   "source": [
    "### I don't think this warning is THAT concerning"
   ]
  },
  {
   "cell_type": "code",
   "execution_count": 158,
   "metadata": {},
   "outputs": [
    {
     "name": "stderr",
     "output_type": "stream",
     "text": [
      "/nfshome/apps/python-3.6.7/lib/python3.6/site-packages/sklearn/utils/validation.py:590: DataConversionWarning: Data with input dtype object was converted to float64 by StandardScaler.\n",
      "  warnings.warn(msg, DataConversionWarning)\n",
      "/nfshome/apps/python-3.6.7/lib/python3.6/site-packages/sklearn/utils/validation.py:590: DataConversionWarning: Data with input dtype object was converted to float64 by StandardScaler.\n",
      "  warnings.warn(msg, DataConversionWarning)\n"
     ]
    }
   ],
   "source": [
    "temp = student_data[:,[2,6,7,8,9,10,11,12,13,14,23,24,25,26,27,28,29,30,31]]\n",
    "Standardized = scaler.fit_transform(temp)"
   ]
  },
  {
   "cell_type": "markdown",
   "metadata": {},
   "source": [
    "### Not sure about the -0.0 for the mean..."
   ]
  },
  {
   "cell_type": "code",
   "execution_count": 159,
   "metadata": {},
   "outputs": [
    {
     "name": "stdout",
     "output_type": "stream",
     "text": [
      "Mean: -0.0\n",
      "Standard deviation: 0.9999999999999999\n"
     ]
    }
   ],
   "source": [
    "print('Mean:', round(Standardized.mean()))\n",
    "print('Standard deviation:', Standardized.std())"
   ]
  },
  {
   "cell_type": "code",
   "execution_count": 160,
   "metadata": {},
   "outputs": [],
   "source": [
    "student_data[:,[2,6,7,8,9,10,11,12,13,14,23,24,25,26,27,28,29,30,31]] = Standardized"
   ]
  },
  {
   "cell_type": "code",
   "execution_count": 161,
   "metadata": {},
   "outputs": [],
   "source": [
    "x = student_data[:,0:32]"
   ]
  },
  {
   "cell_type": "code",
   "execution_count": 162,
   "metadata": {},
   "outputs": [
    {
     "data": {
      "text/plain": [
       "array([-1, -1, -0.6114217963383591, 1, -1, -1, 0.4281306268612493,\n",
       "       1.5407154371084224, 0.8486372158634918, -0.2607275884816344,\n",
       "       -0.9339740507872134, -1.5949259932605189, -0.7600319244561619,\n",
       "       -1.122808480157685, -0.3743051181921297, -1, -1, -1, -1, 1, 1, 1,\n",
       "       -1, -0.9745358622571536, -1.1237713349052476, -1.8597109150959,\n",
       "       -0.5435553304269218, 1.339864308623573, 1.0129025496993858,\n",
       "       1.7986190052059936, 1.3126972261774088, 0.4911367513733601],\n",
       "      dtype=object)"
      ]
     },
     "execution_count": 162,
     "metadata": {},
     "output_type": "execute_result"
    }
   ],
   "source": [
    "x[0,0:]"
   ]
  },
  {
   "cell_type": "code",
   "execution_count": 163,
   "metadata": {},
   "outputs": [],
   "source": [
    "results = student_data[:,32] # output vector"
   ]
  },
  {
   "cell_type": "markdown",
   "metadata": {},
   "source": [
    "### Convert results to one-hot encoding\n",
    "#### the actual output vector doesn't include at least one example of each possible grade so I made a vector of all possibilities for to_categorical"
   ]
  },
  {
   "cell_type": "code",
   "execution_count": 164,
   "metadata": {},
   "outputs": [],
   "source": [
    "possible_results = [0,1,2,3,4,5,6,7,8,9,10,11,12,13,14,15,16,17,18,19]\n",
    "possible_results_2 = [0,1,2,3,4]"
   ]
  },
  {
   "cell_type": "code",
   "execution_count": 165,
   "metadata": {},
   "outputs": [],
   "source": [
    "#y = keras.utils.to_categorical(results, len(possible_results))\n",
    "y = keras.utils.to_categorical(results,len(possible_results_2))"
   ]
  },
  {
   "cell_type": "markdown",
   "metadata": {},
   "source": [
    "# Data is now preprocessed"
   ]
  },
  {
   "cell_type": "markdown",
   "metadata": {},
   "source": [
    "### Note: columns 31 and 32 are not used. I do not believe they are useful for our net."
   ]
  },
  {
   "cell_type": "code",
   "execution_count": 446,
   "metadata": {},
   "outputs": [],
   "source": [
    "model = keras.Sequential()"
   ]
  },
  {
   "cell_type": "code",
   "execution_count": 447,
   "metadata": {},
   "outputs": [],
   "source": [
    "input_size = x.shape[1]\n",
    "output_size = y.shape[1]"
   ]
  },
  {
   "cell_type": "code",
   "execution_count": 448,
   "metadata": {},
   "outputs": [],
   "source": [
    "# create the hidden layer\n",
    "model.add(keras.layers.Dense(800,input_dim=input_size,activation='relu'))"
   ]
  },
  {
   "cell_type": "code",
   "execution_count": 449,
   "metadata": {},
   "outputs": [],
   "source": [
    "model.add(keras.layers.Dense(400,activation='relu'))"
   ]
  },
  {
   "cell_type": "code",
   "execution_count": 450,
   "metadata": {},
   "outputs": [],
   "source": [
    "# output layer\n",
    "model.add(keras.layers.Dense(output_size,activation='softmax'))"
   ]
  },
  {
   "cell_type": "code",
   "execution_count": 451,
   "metadata": {},
   "outputs": [],
   "source": [
    "# compile\n",
    "model.compile(loss='categorical_crossentropy',optimizer='adamax', metrics=['accuracy'])"
   ]
  },
  {
   "cell_type": "code",
   "execution_count": 452,
   "metadata": {},
   "outputs": [
    {
     "name": "stdout",
     "output_type": "stream",
     "text": [
      "_________________________________________________________________\n",
      "Layer (type)                 Output Shape              Param #   \n",
      "=================================================================\n",
      "dense_76 (Dense)             (None, 800)               26400     \n",
      "_________________________________________________________________\n",
      "dense_77 (Dense)             (None, 400)               320400    \n",
      "_________________________________________________________________\n",
      "dense_78 (Dense)             (None, 5)                 2005      \n",
      "=================================================================\n",
      "Total params: 348,805\n",
      "Trainable params: 348,805\n",
      "Non-trainable params: 0\n",
      "_________________________________________________________________\n"
     ]
    }
   ],
   "source": [
    "model.summary()"
   ]
  },
  {
   "cell_type": "code",
   "execution_count": null,
   "metadata": {},
   "outputs": [],
   "source": []
  },
  {
   "cell_type": "markdown",
   "metadata": {},
   "source": [
    "# Model Training\n",
    "## This is some results from training the model\n",
    "## Loss seems to be going down slowly\n",
    "## Interestingly val_loss seems to be increasing \n",
    "## I have ploted the loss below\n",
    "## I could not plot accuracy which is weird and I will have to look into what is causing that\n",
    "# Austin"
   ]
  },
  {
   "cell_type": "code",
   "execution_count": 453,
   "metadata": {},
   "outputs": [],
   "source": [
    "x_train = x[0:518,:]\n",
    "x_test = x[519:649,:]\n",
    "\n",
    "y_train = y[0:518,:]\n",
    "y_test = y[519:649,:]"
   ]
  },
  {
   "cell_type": "code",
   "execution_count": null,
   "metadata": {},
   "outputs": [],
   "source": [
    "history = model.fit(x_train,y_train,batch_size = 32, epochs = 7, verbose = 0, validation_split = 0.2)"
   ]
  },
  {
   "cell_type": "code",
   "execution_count": null,
   "metadata": {},
   "outputs": [],
   "source": [
    "score = model.evaluate(x_test,y_test, verbose=0)\n",
    "print('Test loss:', score[0])\n",
    "print('Test accuracy:', score[1])"
   ]
  },
  {
   "cell_type": "code",
   "execution_count": null,
   "metadata": {},
   "outputs": [],
   "source": [
    "plt.figure(1)\n",
    "\n",
    "# summarize history for accuracy\n",
    "\n",
    "plt.subplot(211)\n",
    "plt.plot(history.history['acc'])\n",
    "plt.plot(history.history['val_acc'])\n",
    "plt.title('model accuracy')\n",
    "plt.ylabel('accuracy')\n",
    "plt.xlabel('epoch')\n",
    "plt.legend(['train','test'], loc ='upper left')\n",
    "\n",
    "# summarize history for loss\n",
    "\n",
    "plt.subplot(212)\n",
    "plt.plot(history.history['loss'])\n",
    "plt.plot(history.history['val_loss'])\n",
    "plt.title('model loss')\n",
    "plt.ylabel('loss')\n",
    "plt.xlabel('epoch')\n",
    "plt.legend(['train','test'], loc ='upper left')\n",
    "\n",
    "plt.tight_layout()\n",
    "plt.show()"
   ]
  },
  {
   "cell_type": "code",
   "execution_count": 72,
   "metadata": {},
   "outputs": [],
   "source": [
    "## PCAs of Data"
   ]
  },
  {
   "cell_type": "code",
   "execution_count": 73,
   "metadata": {},
   "outputs": [],
   "source": [
    "#def func(X):\n",
    " #   return X\n",
    "#xFunc = np.apply_along_axis(func,0,x)\n",
    "\n",
    "\n",
    "#U,S,V = np.linalg.svd(xFunc,full_matrices=True)\n",
    "\n",
    "# Plot the percent of variance accounted for by each feature\n",
    "#plt.plot(100.0*S/np.sum(S))\n",
    "#plt.ylabel(\"Percent Variance\")\n",
    "#plt.xlabel(\"Singular Value\")\n",
    "#plt.show()"
   ]
  },
  {
   "cell_type": "code",
   "execution_count": 74,
   "metadata": {},
   "outputs": [],
   "source": [
    "pca=PCA()\n",
    "pca.fit(x)\n",
    "pca_data = pca.transform(x)"
   ]
  },
  {
   "cell_type": "code",
   "execution_count": 75,
   "metadata": {},
   "outputs": [
    {
     "data": {
      "image/png": "[encoded data removed]",
      "text/plain": [
       "<Figure size 432x288 with 1 Axes>"
      ]
     },
     "metadata": {
      "needs_background": "light"
     },
     "output_type": "display_data"
    }
   ],
   "source": [
    "per_var = np.round(pca.explained_variance_ratio_* 100, decimals = 1)\n",
    "labels = ['PC' + str(i) for i in range (1, len(per_var)+1)]\n",
    "\n",
    "plt.bar(x=range(1,len(per_var)+1), height=per_var, tick_label=labels)\n",
    "plt.ylabel(\"% var\")\n",
    "plt.xlabel(\"PC\")\n",
    "plt.title(\"Scree Plot\")\n",
    "plt.show()"
   ]
  },
  {
   "cell_type": "code",
   "execution_count": null,
   "metadata": {},
   "outputs": [],
   "source": []
  }
 ],
 "metadata": {
  "kernelspec": {
   "display_name": "Python 3",
   "language": "python",
   "name": "python3"
  },
  "language_info": {
   "codemirror_mode": {
    "name": "ipython",
    "version": 3
   },
   "file_extension": ".py",
   "mimetype": "text/x-python",
   "name": "python",
   "nbconvert_exporter": "python",
   "pygments_lexer": "ipython3",
   "version": "3.6.7"
  }
 },
 "nbformat": 4,
 "nbformat_minor": 2
}
