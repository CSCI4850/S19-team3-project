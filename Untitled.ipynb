{
 "cells": [
  {
   "cell_type": "markdown",
   "metadata": {},
   "source": [
    "# **Team Number:** 4\n",
    "# **Title:** Analyzing Multi-Layer and Convolutional Neural Networks in Schizophrenia Detection\n",
    "# **Rating:** Weak Accept\n",
    "# **Review Confidence:** Medium"
   ]
  },
  {
   "cell_type": "markdown",
   "metadata": {},
   "source": [
    "# **Format**"
   ]
  },
  {
   "cell_type": "markdown",
   "metadata": {},
   "source": [
    "### This paper meets all IEEE formatting guidelines. Citations are properly referenced, sections are properly identified, and graphs and figures are labeled correctly. "
   ]
  },
  {
   "cell_type": "markdown",
   "metadata": {},
   "source": [
    "# **Summary Statement**"
   ]
  },
  {
   "cell_type": "markdown",
   "metadata": {},
   "source": [
    "### The first sentence of the introduction seemed irrelevant to the content of this paper and made for a weak introduction – I would consider removing this. Describing goals of the paper and also providing the reader with a thorough understanding of Functional Magnetic Resonance Imaging formulated the background very well. The section over *Tools and Previous Works* was very thorough; Descriptions of tools used were short enough to not distract from the main analysis but were descriptive enough to understand what they do on a high level – this was a strong element. The *methods* section also shared the same strong qualities as *Tools and Previous Works*, however, the statement “4D matrix (subject#, X, Y, Z, t). An image of the scan can be seen in fig. 1” and figure 1 does not explain what t represents; Only X, Y, and Z are shown in figure 1.  Subject# is also not clearly explained of its representation.  In the *Discussion* section, it is suggested that the convolution net could likely achieve accuracy similar to feed forward net if it was given “enough training time”, however, the convolution net was previously mentioned in the *Results* section that it suffered from overfitting. This suggestion seems counter intuitive of fixing an overfitting neural net. Overall, this paper flowed quite nice and demonstrated thorough research in Schizophrenia detection utilizing neural network models. "
   ]
  },
  {
   "cell_type": "markdown",
   "metadata": {},
   "source": [
    "# **Major**"
   ]
  },
  {
   "cell_type": "markdown",
   "metadata": {},
   "source": [
    "### None"
   ]
  },
  {
   "cell_type": "markdown",
   "metadata": {},
   "source": [
    "# **Minor**"
   ]
  },
  {
   "cell_type": "markdown",
   "metadata": {},
   "source": [
    "### **1.**    The suggestion to use more training time on a convolution network that is reported to be overfitting should be reconsidered. Reasoning for more training time should be explained as opposed to not adding more data, adding regularization, or other any other conventional method to handle overfitting.\n",
    "\n",
    "### **2.**    The elements, subject# and t, of the 4D matrix (subject#, X, Y, Z, t) should be explained as to what they represent."
   ]
  },
  {
   "cell_type": "markdown",
   "metadata": {},
   "source": [
    "# **Discretionary**"
   ]
  },
  {
   "cell_type": "markdown",
   "metadata": {},
   "source": [
    "### **1.**    I suggest removing the beginning sentence of the Introduction section. \n",
    "### **2.**    Figures 1, 2, and 3 appear grainy and are difficult to read – I suggest fixing these. \n",
    "### **3.**    The sentence “While this method of classification did not perform better than chance…” in Discussion section should be rephrased. "
   ]
  },
  {
   "cell_type": "code",
   "execution_count": null,
   "metadata": {},
   "outputs": [],
   "source": []
  }
 ],
 "metadata": {
  "kernelspec": {
   "display_name": "Python 3",
   "language": "python",
   "name": "python3"
  },
  "language_info": {
   "codemirror_mode": {
    "name": "ipython",
    "version": 3
   },
   "file_extension": ".py",
   "mimetype": "text/x-python",
   "name": "python",
   "nbconvert_exporter": "python",
   "pygments_lexer": "ipython3",
   "version": "3.6.7"
  }
 },
 "nbformat": 4,
 "nbformat_minor": 2
}
