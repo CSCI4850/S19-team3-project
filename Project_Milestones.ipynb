{
 "cells": [
  {
   "cell_type": "markdown",
   "metadata": {},
   "source": [
    "# TEAM 3: Project Milestones\n",
    "## Week of March 14, 2019"
   ]
  },
  {
   "cell_type": "markdown",
   "metadata": {},
   "source": [
    "|  Deliverable | Percent Complete | Estimated Completion Date | Percent Complete by Next Milestone |\n",
    "|-------------:|-----------------:|--------------------------:|-----------------------------------:|\n",
    "|         Code |               0% |                   Apr. 16 |                                15% |\n",
    "|        Paper |               0% |                   Apr. 21 |                                10% |\n",
    "|         Demo |               0% |                   Apr. 30 |                                10% |\n",
    "| Presentation |               0% |                   Apr. 30 |                                 0% |"
   ]
  },
  {
   "cell_type": "markdown",
   "metadata": {},
   "source": [
    "### Entering these next two weeks, we will be focusing on preparing our data for training, which will be handled by Gabriela and James who will also begin their work on the paper and demo, and constructing the neural network that will be used to predict final grades. This task will be lead by Austin and Jeffrey."
   ]
  },
  {
   "cell_type": "markdown",
   "metadata": {},
   "source": [
    "## Week of March 28, 2019"
   ]
  },
  {
   "cell_type": "markdown",
   "metadata": {},
   "source": [
    "|  Deliverable | Percent Complete  | Estimated Completion Date | Percent Complete by Next Milestone |\n",
    "|-------------:|------------------:|--------------------------:|-----------------------------------:|\n",
    "|         Code |               15% |                   Apr. 16 |                                35% |\n",
    "|        Paper |                3% |                   Apr. 21 |                                20% |\n",
    "|         Demo |                0% |                   Apr. 30 |                                15% |\n",
    "| Presentation |                0% |                   Apr. 30 |                                 0% |"
   ]
  },
  {
   "cell_type": "markdown",
   "metadata": {},
   "source": [
    "### We were able to complete 15% of the coding portion of this project. Our goals for the paper and demo were not met. Our main goals for the next two weeks are reaching a level of accuracy with our neural network similar to that of the original study and completing a portion of the paper and demo. Jeffrey and Austin will handling most of the neural network training while James and Gabriela focus on the project and demo with both teams partially contributing to the other's."
   ]
  },
  {
   "cell_type": "markdown",
   "metadata": {},
   "source": [
    "## Week of April 11, 2019"
   ]
  },
  {
   "cell_type": "markdown",
   "metadata": {},
   "source": [
    "|  Deliverable | Percent Complete  | Estimated Completion Date | Percent Complete by Next Milestone |\n",
    "|-------------:|------------------:|--------------------------:|-----------------------------------:|\n",
    "|         Code |               40% |                   Apr. 16 |                                100% |\n",
    "|        Paper |                5% |                   Apr. 21 |                                100% |\n",
    "|         Demo |                50% |                   Apr. 30 |                                100% |\n",
    "| Presentation |                0% |                   Apr. 30 |                                 80% |"
   ]
  },
  {
   "cell_type": "markdown",
   "metadata": {},
   "source": [
    "### We have exceeded our goals regarding the code and demo portions of this project. We have not, however, completed as much of the paper as we had planned. By our next milestone, we will have completed our code (led by Jeffrey and Austin, assisted by the rest of the team), our paper (led by James, assisted by Jeffrey and Austin), and our demo (led by Gabriela who will also work on the presentation). "
   ]
  }
 ],
 "metadata": {
  "kernelspec": {
   "display_name": "Python 3",
   "language": "python",
   "name": "python3"
  },
  "language_info": {
   "codemirror_mode": {
    "name": "ipython",
    "version": 3
   },
   "file_extension": ".py",
   "mimetype": "text/x-python",
   "name": "python",
   "nbconvert_exporter": "python",
   "pygments_lexer": "ipython3",
   "version": "3.6.7"
  }
 },
 "nbformat": 4,
 "nbformat_minor": 2
}
