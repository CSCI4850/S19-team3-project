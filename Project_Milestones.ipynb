{
 "cells": [
  {
   "cell_type": "markdown",
   "metadata": {},
   "source": [
    "# TEAM 3: Project Milestones\n",
    "## Week of March 14, 2019"
   ]
  },
  {
   "cell_type": "markdown",
   "metadata": {},
   "source": [
    "|  Deliverable | Percent Complete | Estimated Completion Date | Percent Complete by Next Milestone |\n",
    "|-------------:|-----------------:|--------------------------:|-----------------------------------:|\n",
    "|         Code |               0% |                   Apr. 16 |                                15% |\n",
    "|        Paper |               0% |                   Apr. 21 |                                10% |\n",
    "|         Demo |               0% |                   Apr. 31 |                                10% |\n",
    "| Presentation |               0% |                   Apr. 31 |                                 0% |"
   ]
  },
  {
   "cell_type": "markdown",
   "metadata": {},
   "source": [
    "### Entering these next two weeks, we will be focusing on preparing our data for training, which will be handled by Gabriela and James who will also begin their work on the paper and demo, and constructing the neural network that will be used to predict final grades. This task will be lead by Austin and Jeffrey."
   ]
  }
 ],
 "metadata": {
  "kernelspec": {
   "display_name": "Python 3",
   "language": "python",
   "name": "python3"
  },
  "language_info": {
   "codemirror_mode": {
    "name": "ipython",
    "version": 3
   },
   "file_extension": ".py",
   "mimetype": "text/x-python",
   "name": "python",
   "nbconvert_exporter": "python",
   "pygments_lexer": "ipython3",
   "version": "3.6.7"
  }
 },
 "nbformat": 4,
 "nbformat_minor": 2
}
