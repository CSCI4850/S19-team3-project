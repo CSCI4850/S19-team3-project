{
 "cells": [
  {
   "cell_type": "raw",
   "metadata": {},
   "source": [
    "% PACKAGES INCLUDED HERE \n",
    "% DO NOT NEED TO CHANGE\n",
    "\\documentclass[conference]{IEEEtran}\n",
    "%\\IEEEoverridecommandlockouts\n",
    "% The preceding line is only needed to identify funding in the first footnote. If that is unneeded, please comment it out.\n",
    "\\usepackage{cite}\n",
    "\\usepackage{amsmath,amssymb,amsfonts}\n",
    "\\usepackage{algorithmic}\n",
    "\\usepackage{graphicx}\n",
    "\\usepackage{textcomp}\n",
    "\\def\\BibTeX{{\\rm B\\kern-.05em{\\sc i\\kern-.025em b}\\kern-.08em\n",
    "    T\\kern-.1667em\\lower.7ex\\hbox{E}\\kern-.125emX}}\n",
    "\\begin{document}"
   ]
  },
  {
   "cell_type": "raw",
   "metadata": {},
   "source": [
    "% TITLE GOES HERE\n",
    "\n",
    "\\title{Paper Title*\\\\}\n"
   ]
  },
  {
   "cell_type": "raw",
   "metadata": {},
   "source": [
    "% AUTHOR NAMES GOES HERE\n",
    "\n",
    "\\author{\\IEEEauthorblockN{1\\textsuperscript{st} Given Name Surname}\n",
    "\\IEEEauthorblockA{\\textit{dept. name of organization (of Aff.)} \\\\\n",
    "\\textit{name of organization (of Aff.)}\\\\\n",
    "City, Country \\\\\n",
    "email address}\n",
    "\\and\n",
    "\\IEEEauthorblockN{2\\textsuperscript{nd} Given Name Surname}\n",
    "\\IEEEauthorblockA{\\textit{dept. name of organization (of Aff.)} \\\\\n",
    "\\textit{name of organization (of Aff.)}\\\\\n",
    "City, Country \\\\\n",
    "email address}\n",
    "\\and\n",
    "\\IEEEauthorblockN{3\\textsuperscript{rd} Given Name Surname}\n",
    "\\IEEEauthorblockA{\\textit{dept. name of organization (of Aff.)} \\\\\n",
    "\\textit{name of organization (of Aff.)}\\\\\n",
    "City, Country \\\\\n",
    "email address}\n",
    "\\and\n",
    "\\IEEEauthorblockN{4\\textsuperscript{th} Given Name Surname}\n",
    "\\IEEEauthorblockA{\\textit{dept. name of organization (of Aff.)} \\\\\n",
    "\\textit{name of organization (of Aff.)}\\\\\n",
    "City, Country \\\\\n",
    "email address}\n",
    "\\and\n",
    "\\IEEEauthorblockN{5\\textsuperscript{th} Given Name Surname}\n",
    "\\IEEEauthorblockA{\\textit{dept. name of organization (of Aff.)} \\\\\n",
    "\\textit{name of organization (of Aff.)}\\\\\n",
    "City, Country \\\\\n",
    "email address}\n",
    "\\and\n",
    "\\IEEEauthorblockN{6\\textsuperscript{th} Given Name Surname}\n",
    "\\IEEEauthorblockA{\\textit{dept. name of organization (of Aff.)} \\\\\n",
    "\\textit{name of organization (of Aff.)}\\\\\n",
    "City, Country \\\\\n",
    "email address}\n",
    "}\n",
    "\n",
    "\\maketitle"
   ]
  },
  {
   "cell_type": "raw",
   "metadata": {},
   "source": [
    "% ABSTRACT \n",
    "\n",
    "\\begin{abstract}\n",
    "This document is a model and instructions for \\LaTeX.\n",
    "This and the IEEEtran.cls file define the components of your paper [title, text, heads, etc.]. *CRITICAL: Do Not Use Symbols, Special Characters, Footnotes, \n",
    "or Math in Paper Title or Abstract.\n",
    "\\end{abstract}\n"
   ]
  },
  {
   "cell_type": "raw",
   "metadata": {},
   "source": [
    "% KEYWORDS\n",
    "\n",
    "\\begin{IEEEkeywords}\n",
    "component, formatting, style, styling, insert\n",
    "\\end{IEEEkeywords}"
   ]
  },
  {
   "cell_type": "raw",
   "metadata": {},
   "source": [
    "% INTRODUCTION SECTION\n",
    "\\section{Introduction}\n",
    "\n",
    "It is said that our children are our future, and for that reason we, as a society, try our best to prepare them for the world they live. Secondary education helps accomplish this by bridging the gap from primary education to either post-secondary, vocational training, or the work force. Whichever path an individual decides to take, secondary education is crucial for the prosperity of a nation. With secondary education related to unemployment and incarceration rates, the importance of education becomes apparent to a society \\cite{mitra}. The United States addresses this by spending 5.62\\% of its GDP on education -- this equals more than a trillion dollars \\cite{nationmaster}. However, many students still fall short of finishing a post-secondary education. Yearly, over 1.2 million individuals in high school dropout in the United States \\cite{miller2011}. Can we assume that there are certain contributing factors to a student's success in a secondary institution? And if we can, how do we identify what they are?  Using a neural network, this is what we intend to find out. "
   ]
  },
  {
   "cell_type": "raw",
   "metadata": {},
   "source": [
    "% BACKGROUND SECTION\n",
    "\\section{Background}\n",
    "\n",
    "Research in student performance has been aided many times using neural networks. Researchers at the University of Technology Mara Malaysia used a neural network to determine which early subjects in electrical engineering contributed the most towards the student’s success in the major. Data on 391 students was collected from the university. The input data consisted of student grades for individual subjects (six subjects per student) in an early semester while the output is predicting the cumulative grade point average. Using sigmoid for the hidden layer, purelin for the outer layer, they were able to achieve a relatively low Mean Squared Error (0.05544) \\cite{arsad2013}. However, this neural network is limited in that it only considers quantitative data. \n",
    "\n",
    " In the European Union, Portugal ranks the lowest with student success rates. Paulo Cortez and Alice Silva, Information Systems Scientists at the University of Minho in Portugal, collected data on the secondary public-school system to see if a neural network could determine factors contributing to the high failure rates of their youth. In their study, 788 students were given questionnaires with predefined options. Along with the questionnaires, past exam grades and attendance were collected; 139 samples were discarded due to faulty sampling leaving 649 confident samples. Using a feed-forward classification neural network, they were able to achieve 72\\% accuracy with three classes and 62\\% accuracy with nine classes \\cite{cortez2008}. This study considered both qualitative and quantitative data which is why we use the same sample collected for our neural network. "
   ]
  },
  {
   "cell_type": "raw",
   "metadata": {},
   "source": [
    "% METHODS SECTION\n",
    "\\section{Methods}\n",
    "\n",
    "Our data consists of information concerning students from two schools in Portugal during the 2005-2006 school year. Information was collected both from school results along with questionnaires, which are used to determine additional details about the students’ environments. We are interested in grade information, which is scored on a scale of 0-20, along with other information about the students’ environment. Some of the information includes parental education, alcohol consumption, health status, and past class failures. We looked at student performance in Portuguese of which there are 649 records. \n",
    "\n",
    "With some of our input data being qualitative, we had to encode it for the network. This was done by using a label encoder tool provided by Scikit-learn. This was done for all binomial and nominal data. Zeros (0) were encoded to negative ones (-1) for the binomial data to ensure proper weight updates. In addition, we needed to shuffle our dataset due to its ordered nature. Without this step, we would be training on data exclusively from one school, then testing on data from a different school. \n",
    "\n",
    "For our network’s output shape, we decided to attempt classification of student’s scores into 5 categories. The categories range from 0, the worst score, to 4. We use a keras sequential model with two hidden layers for our simple feed-forward network. Both of these layers have the rectified linear unit as its activation function. ReLU is used because it avoids activations of zero, which can be an issue with softmax, while still allowing for nonlinearity. The function is defined as $f(x) = max(0,x)$ \\cite{kaggle}. An image of the function is shown in Figure \\ref{relu}.\n",
    "\n",
    "\\begin{figure}[htbp]\n",
    "\\centerline{\\includegraphics[width=\\linewidth]{relu.jpg}}\n",
    "\\caption{A graph showing the form of ReLU \\cite{kaggle}.}\n",
    "\\label{relu}\n",
    "\\end{figure}\n",
    "\n",
    "The first hidden layer has 800 units while the second has 400. The final, output layer uses the softmax activation function, which allows us to predict one of several categories. The error function we selected is categorical cross entropy due to its ability to help us classify students into one of multiple different categories. \n",
    "\n",
    "Now that we have a network which we believe can predict student scores, we split our data into two sets, one for training and one for testing of the trained network. After several trials, we decided that beyond 7 epochs, our model began overfitting, so we stopped at that point. As our main objective is determining what factors contribute the most to student success, after an initial test, we began testing the network while removing a single feature every trial. Afterwards, we attempted to determine which features had the greatest impact on our model’s performance. We then selected the most detrimental of those features and removed them all at the same time, hoping to improve our results."
   ]
  },
  {
   "cell_type": "raw",
   "metadata": {},
   "source": [
    "% RESULTS SECTION\n",
    "\\section{Results}\n",
    "\n",
    "During the initial test of the network, a test accuracy of 77\\% was achieved while using all features in the data set. It was thought that this accuracy could be increased by removing redundant features. This test is depicted in figure \\ref{results1}\n",
    "\n",
    "\\begin{figure}[htbp]\n",
    "\\centerline{\\includegraphics[width=\\linewidth]{results1.png}}\n",
    "\\caption{Initial test results.}\n",
    "\\label{results1}\n",
    "\\end{figure}\n",
    "\n",
    "There were two features whose removal from the training data had little effect on the network’s accuracy. The removal of the school and grade three features saw little to no increase in network accuracy. Figure \\ref{results2} is from the network that trained on the data without the grade three feature.\n",
    "\n",
    "\\begin{figure}[htbp]\n",
    "\\centerline{\\includegraphics[width=\\linewidth]{results2.png}}\n",
    "\\caption{Test results without grade 3.}\n",
    "\\label{results2}\n",
    "\\end{figure}\n",
    "\n",
    "Aside from the two features listed above, the removal of any other feature from the data set caused the network’s test accuracy to increase significantly. The removal of the feature that describe the mother’s occupation caused the test accuracy to increase to 88\\%. The same is true for the feature that describes the number of absences the student has, and the higher education feature. Figure \\ref{results3} depicts network accuracy and loss with the absence feature removed.\n",
    "\n",
    "\\begin{figure}[htbp]\n",
    "\\centerline{\\includegraphics[width=\\linewidth]{results3.png}}\n",
    "\\caption{Test results without absences.}\n",
    "\\label{results3}\n",
    "\\end{figure}\n",
    "\n",
    "The highest test accuracy achieved was 97\\% accuracy. This accuracy rating was reached on three different occasions of feature removal: the removal of the age feature, the removal of the address feature, and the removal of the free time feature. Figure \\ref{results4} depicts the overall accuracy and loss of the network after the removal of the age feature.\n",
    "\n",
    "\\begin{figure}[htbp]\n",
    "\\centerline{\\includegraphics[width=\\linewidth]{results4.png}}\n",
    "\\caption{Test results without age.}\n",
    "\\label{results4}\n",
    "\\end{figure}\n",
    "\n",
    "The removal of other features from the training set generally resulted in a test accuracy between 90\\% and 97\\%. The highest accuracy among this group is 96\\%, after the removal of the feature that described how much alcohol a student drank on the weekend. A test accuracy of 90\\% was the lowest accuracy score of this group, after the removal of the travel time feature from the training set. Figure \\ref{results5} shows the accuracy and loss of the network that was trained without the travel time feature.\n",
    "\n",
    "\\begin{figure}[htbp]\n",
    "\\centerline{\\includegraphics[width=\\linewidth]{results5.png}}\n",
    "\\caption{Test results without travel time.}\n",
    "\\label{results5}\n",
    "\\end{figure}\n",
    "\n",
    "Other notable features are the grade one and grade two feature, whose removal saw an increase in test accuracy to 90\\% and 93\\% respectively. Features like internet access and romantic involvement, after removal, saw a test accuracy of 95% and 96% respectively."
   ]
  },
  {
   "cell_type": "raw",
   "metadata": {},
   "source": [
    "% DISCUSSION SECTION\n",
    "\\section{Discussion}\n",
    "\n",
    "Start typing here \\cite{b5}."
   ]
  },
  {
   "cell_type": "raw",
   "metadata": {},
   "source": [
    "% REFERENCES\n",
    "% THIS IS CREATED AUTOMATICALLY\n",
    "\\bibliographystyle{IEEEtran}\n",
    "\\bibliography{References} % change if another name is used for References file"
   ]
  },
  {
   "cell_type": "raw",
   "metadata": {},
   "source": [
    "\\end{document}"
   ]
  }
 ],
 "metadata": {
  "kernelspec": {
   "display_name": "Python 3",
   "language": "python",
   "name": "python3"
  },
  "language_info": {
   "codemirror_mode": {
    "name": "ipython",
    "version": 3
   },
   "file_extension": ".py",
   "mimetype": "text/x-python",
   "name": "python",
   "nbconvert_exporter": "python",
   "pygments_lexer": "ipython3",
   "version": "3.6.7"
  }
 },
 "nbformat": 4,
 "nbformat_minor": 2
}
