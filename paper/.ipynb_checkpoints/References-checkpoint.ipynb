{
 "cells": [
  {
   "cell_type": "raw",
   "metadata": {},
   "source": [
    "@misc{nationmaster, title={Portugal vs United States Education Stats Compared}, url={https://www.nationmaster.com/country-info/compare/Portugal/United-States/Education}, journal={NationMaster.com}, publisher={NationMaster}}"
   ]
  },
  {
   "cell_type": "raw",
   "metadata": {},
   "source": [
    "@article{mcfarland2018, title={Public School Expenditures}, journal={The Condition of Education}, author={McFarland, Joel and Hussar, Bill and Wang, Xiaolei and Zhang, Jijun and Wang, Ke and Rathbun, Amy and Barmer, Amy and Forrest Cataldi, Emily and Bullock Mann, Farrah and Ossolinski, Mark and et al.}, editor={Nachazel, Thomas and Smith, WyattEditors}, year={2018}, month={May}, pages={144–146}}"
   ]
  },
  {
   "cell_type": "raw",
   "metadata": {},
   "source": [
    "@misc{mitra, title={Pennsylvania's Best Investment: The Social and Economic Benefits of Public Education}, url={https://www.elc-pa.org/resource/pennsylvanias-best-investment-the-social-and-economic-benefits-of-public-education/}, journal={Education Law Center}, author={Mitra, Dana}}"
   ]
  },
  {
   "cell_type": "raw",
   "metadata": {},
   "source": [
    "@misc{miller2011, place={Houston}, title={Partnering for Education Reform}, url={https://www.ed.gov/news/speeches/partnering-education-reform}, journal={International AIM Convention}, author={Miller, Tony}, year={2011}, month={Jul}}"
   ]
  },
  {
   "cell_type": "raw",
   "metadata": {},
   "source": [
    "@article{cortez2008,\n",
    "author = {Cortez, Paulo and Silva, Alice},\n",
    "year = {2008},\n",
    "month = {01},\n",
    "pages = {},\n",
    "title = {Using data mining to predict secondary school student performance},\n",
    "journal = {EUROSIS}\n",
    "}"
   ]
  },
  {
   "cell_type": "raw",
   "metadata": {},
   "source": [
    "@inproceedings{arsad2013,\n",
    "author = {Mohd Arsad, Pauziah and Buniyamin, Norlida and Ab Manan, Jamalul-Lail},\n",
    "year = {2013},\n",
    "month = {11},\n",
    "pages = {1-5},\n",
    "title = {A neural network students' performance prediction model (NNSPPM)},\n",
    "isbn = {978-1-4799-0843-1},\n",
    "doi = {10.1109/ICSIMA.2013.6717966}\n",
    "}"
   ]
  },
  {
   "cell_type": "code",
   "execution_count": null,
   "metadata": {},
   "outputs": [],
   "source": [
    "@misc{kaggle, title={Rectified Linear Units (ReLU) in Deep Learning}, url={https://www.kaggle.com/dansbecker/rectified-linear-units-relu-in-deep-learning}, journal={Kaggle}}"
   ]
  }
 ],
 "metadata": {
  "kernelspec": {
   "display_name": "Python 3",
   "language": "python",
   "name": "python3"
  },
  "language_info": {
   "codemirror_mode": {
    "name": "ipython",
    "version": 3
   },
   "file_extension": ".py",
   "mimetype": "text/x-python",
   "name": "python",
   "nbconvert_exporter": "python",
   "pygments_lexer": "ipython3",
   "version": "3.6.7"
  }
 },
 "nbformat": 4,
 "nbformat_minor": 2
}
